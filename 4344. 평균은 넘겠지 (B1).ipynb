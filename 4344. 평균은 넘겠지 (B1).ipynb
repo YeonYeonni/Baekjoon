{
 "cells": [
  {
   "cell_type": "code",
   "execution_count": 32,
   "id": "5f14544e",
   "metadata": {},
   "outputs": [
    {
     "name": "stdout",
     "output_type": "stream",
     "text": [
      "5\n",
      "5 50 50 70 80 100\n",
      "40.000%\n",
      "7 100 95 90 80 70 60 50\n",
      "57.143%\n",
      "3 70 90 80\n",
      "33.333%\n",
      "3 70 90 81\n",
      "66.667%\n",
      "9 100 99 98 97 96 95 94 93 91\n",
      "55.556%\n"
     ]
    }
   ],
   "source": [
    "c = int(input()) # test case의 개수\n",
    "\n",
    "for _ in range(c):\n",
    "    summ = 0\n",
    "    n = list(map(int, input().split()))\n",
    "    \n",
    "    avg = sum(n[1:len(n)]) / n[0]\n",
    "    \n",
    "    for i in range(1, len(n)):\n",
    "        if avg < n[i]:\n",
    "            summ += 1\n",
    "            \n",
    "    f = '{:.3f}'.format(summ/n[0]*100)\n",
    "            \n",
    "    print(f+'%')"
   ]
  },
  {
   "cell_type": "code",
   "execution_count": null,
   "id": "8139bc15",
   "metadata": {},
   "outputs": [],
   "source": []
  }
 ],
 "metadata": {
  "kernelspec": {
   "display_name": "Python 3 (ipykernel)",
   "language": "python",
   "name": "python3"
  },
  "language_info": {
   "codemirror_mode": {
    "name": "ipython",
    "version": 3
   },
   "file_extension": ".py",
   "mimetype": "text/x-python",
   "name": "python",
   "nbconvert_exporter": "python",
   "pygments_lexer": "ipython3",
   "version": "3.8.6"
  }
 },
 "nbformat": 4,
 "nbformat_minor": 5
}
