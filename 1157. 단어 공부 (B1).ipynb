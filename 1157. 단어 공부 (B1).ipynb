{
 "cells": [
  {
   "cell_type": "code",
   "execution_count": 30,
   "id": "a858cfa7",
   "metadata": {},
   "outputs": [
    {
     "name": "stdout",
     "output_type": "stream",
     "text": [
      "Mississipi\n",
      "?\n"
     ]
    }
   ],
   "source": [
    "words = input().upper()\n",
    "unique_words = list(set(words))\n",
    "\n",
    "cnt_list = []\n",
    "for x in unique_words:\n",
    "    cnt = words.count(x)\n",
    "    cnt_list.append(cnt)\n",
    "    \n",
    "if cnt_list.count(max(cnt_list)) > 1:\n",
    "    print('?')\n",
    "\n",
    "else:\n",
    "    max_index = cnt_list.index(max(cnt_list))\n",
    "    print(unique_words[max_index])"
   ]
  },
  {
   "cell_type": "code",
   "execution_count": null,
   "id": "d577390b",
   "metadata": {},
   "outputs": [],
   "source": []
  }
 ],
 "metadata": {
  "kernelspec": {
   "display_name": "Python 3 (ipykernel)",
   "language": "python",
   "name": "python3"
  },
  "language_info": {
   "codemirror_mode": {
    "name": "ipython",
    "version": 3
   },
   "file_extension": ".py",
   "mimetype": "text/x-python",
   "name": "python",
   "nbconvert_exporter": "python",
   "pygments_lexer": "ipython3",
   "version": "3.8.6"
  }
 },
 "nbformat": 4,
 "nbformat_minor": 5
}
