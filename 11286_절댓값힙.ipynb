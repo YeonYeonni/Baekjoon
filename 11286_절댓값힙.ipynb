{
 "cells": [
  {
   "cell_type": "code",
   "execution_count": 1,
   "id": "c98dd8e2",
   "metadata": {},
   "outputs": [
    {
     "name": "stdout",
     "output_type": "stream",
     "text": [
      "18\n"
     ]
    }
   ],
   "source": [
    "import heapq\n",
    "\n",
    "n = int(input())"
   ]
  },
  {
   "cell_type": "code",
   "execution_count": 11,
   "id": "c79338b5",
   "metadata": {},
   "outputs": [
    {
     "name": "stdout",
     "output_type": "stream",
     "text": [
      "1\n",
      "-1\n",
      "0\n"
     ]
    },
    {
     "ename": "NameError",
     "evalue": "name 'v' is not defined",
     "output_type": "error",
     "traceback": [
      "\u001b[1;31m---------------------------------------------------------------------------\u001b[0m",
      "\u001b[1;31mNameError\u001b[0m                                 Traceback (most recent call last)",
      "\u001b[1;32m~\\AppData\\Local\\Temp\\ipykernel_12228\\2334430359.py\u001b[0m in \u001b[0;36m<module>\u001b[1;34m\u001b[0m\n\u001b[0;32m     20\u001b[0m             \u001b[0mabs_v\u001b[0m \u001b[1;33m=\u001b[0m \u001b[0mheapq\u001b[0m\u001b[1;33m.\u001b[0m\u001b[0mheappop\u001b[0m\u001b[1;33m(\u001b[0m\u001b[0mabs_queue\u001b[0m\u001b[1;33m)\u001b[0m\u001b[1;33m\u001b[0m\u001b[1;33m\u001b[0m\u001b[0m\n\u001b[0;32m     21\u001b[0m \u001b[1;33m\u001b[0m\u001b[0m\n\u001b[1;32m---> 22\u001b[1;33m         \u001b[1;32mwhile\u001b[0m \u001b[0mabs\u001b[0m\u001b[1;33m(\u001b[0m\u001b[0mv\u001b[0m\u001b[1;33m)\u001b[0m \u001b[1;33m!=\u001b[0m \u001b[0mabs_v\u001b[0m\u001b[1;33m:\u001b[0m\u001b[1;33m\u001b[0m\u001b[1;33m\u001b[0m\u001b[0m\n\u001b[0m\u001b[0;32m     23\u001b[0m \u001b[1;33m\u001b[0m\u001b[0m\n\u001b[0;32m     24\u001b[0m             \u001b[1;31m# 만약 abs(v) != abs_v면 다시 배열에 삽입\u001b[0m\u001b[1;33m\u001b[0m\u001b[1;33m\u001b[0m\u001b[0m\n",
      "\u001b[1;31mNameError\u001b[0m: name 'v' is not defined"
     ]
    }
   ],
   "source": [
    "queue = [] # 그냥 힙\n",
    "abs_queue = [] # 절댓값 힙\n",
    "\n",
    "for i in range(n):\n",
    "    \n",
    "    tmp = int(input())\n",
    "    \n",
    "    # x가 0이 아니라면\n",
    "    if tmp != 0:\n",
    "        \n",
    "        # 큐에 정수를 넣기\n",
    "        heapq.heappush(queue, tmp)\n",
    "        heapq.heappush(abs_queue, abs(tmp))\n",
    "    \n",
    "    # x가 0이라면\n",
    "    if tmp == 0:\n",
    "        \n",
    "        # 큐에 원소가 없으면 0을 출력\n",
    "        if len(queue) == 0:\n",
    "            print(0)\n",
    "            continue\n",
    "        \n",
    "        # 큐에 원소가 있으면\n",
    "        v = heapq.heappop(queue) # 무한 반복: 계속 제일 작은 원소가 나올 것이기 때문\n",
    "        abs_v = heapq.heappop(abs_queue)\n",
    "        \n",
    "        while abs(v) != abs_v:\n",
    "        \n",
    "            # 만약 abs(v) != abs_v면 다시 배열에 삽입\n",
    "            heapq.heappush(queue, v)\n",
    "            heapq.heappush(abs_queue, abs_v)\n",
    "            \n",
    "            # 배열에서 절댓값이 가장 작은 값을 출력\n",
    "            v = heapq.heappop(queue)\n",
    "            abs_v = heapq.heappop(abs_queue)\n",
    "            \n",
    "        print(v)"
   ]
  },
  {
   "cell_type": "markdown",
   "id": "a201416a",
   "metadata": {},
   "source": [
    "## 정답\n",
    "\n",
    "- heapq 내에 abs(num)과 num을 튜플로 삽입"
   ]
  },
  {
   "cell_type": "code",
   "execution_count": null,
   "id": "17a51b99",
   "metadata": {},
   "outputs": [],
   "source": [
    "import sys\n",
    "input = sys.stdin.readline"
   ]
  },
  {
   "cell_type": "code",
   "execution_count": 2,
   "id": "de4a8298",
   "metadata": {},
   "outputs": [
    {
     "name": "stdout",
     "output_type": "stream",
     "text": [
      "18\n",
      "1\n",
      "[(1, 1)]\n",
      "-1\n",
      "[(1, -1), (1, 1)]\n",
      "0\n",
      "-1\n",
      "[(1, 1)]\n",
      "0\n",
      "1\n",
      "[]\n",
      "0\n",
      "0\n",
      "[]\n",
      "1\n",
      "[(1, 1)]\n",
      "1\n",
      "[(1, 1), (1, 1)]\n",
      "-1\n",
      "[(1, -1), (1, 1), (1, 1)]\n",
      "-1\n",
      "[(1, -1), (1, -1), (1, 1), (1, 1)]\n",
      "2\n",
      "[(1, -1), (1, -1), (1, 1), (1, 1), (2, 2)]\n",
      "-2\n",
      "[(1, -1), (1, -1), (1, 1), (1, 1), (2, 2), (2, -2)]\n",
      "0\n",
      "-1\n",
      "[(1, -1), (1, 1), (1, 1), (2, -2), (2, 2)]\n",
      "0\n",
      "-1\n",
      "[(1, 1), (1, 1), (2, 2), (2, -2)]\n",
      "0\n",
      "1\n",
      "[(1, 1), (2, -2), (2, 2)]\n",
      "0\n",
      "1\n",
      "[(2, -2), (2, 2)]\n",
      "0\n",
      "-2\n",
      "[(2, 2)]\n",
      "0\n",
      "2\n",
      "[]\n",
      "0\n",
      "0\n",
      "[]\n"
     ]
    }
   ],
   "source": [
    "import heapq\n",
    "\n",
    "abs_heap = []\n",
    "n = int(input())\n",
    "for i in range(n):\n",
    "    num = int(input())\n",
    "    \n",
    "    # num이 0이 아니면\n",
    "    if num:\n",
    "        heapq.heappush(abs_heap, (abs(num), num))\n",
    "        \n",
    "    # num이 0이면\n",
    "    else:\n",
    "        # abs_heap에 원소가 있으면\n",
    "        if abs_heap:\n",
    "            print(heapq.heappop(abs_heap)[1]) # [0]기준으로 heappop. print는 [1]\n",
    "        \n",
    "        # abs_heap에 원소가 없으면\n",
    "        else:\n",
    "            print(0)\n",
    "            \n",
    "    print(abs_heap)"
   ]
  },
  {
   "cell_type": "code",
   "execution_count": null,
   "id": "66229bad",
   "metadata": {},
   "outputs": [],
   "source": []
  }
 ],
 "metadata": {
  "kernelspec": {
   "display_name": "Python 3 (ipykernel)",
   "language": "python",
   "name": "python3"
  },
  "language_info": {
   "codemirror_mode": {
    "name": "ipython",
    "version": 3
   },
   "file_extension": ".py",
   "mimetype": "text/x-python",
   "name": "python",
   "nbconvert_exporter": "python",
   "pygments_lexer": "ipython3",
   "version": "3.9.13"
  }
 },
 "nbformat": 4,
 "nbformat_minor": 5
}
