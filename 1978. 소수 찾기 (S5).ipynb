{
 "cells": [
  {
   "cell_type": "code",
   "execution_count": 9,
   "id": "b5379053",
   "metadata": {},
   "outputs": [
    {
     "name": "stdout",
     "output_type": "stream",
     "text": [
      "4\n",
      "1 3 5 7\n",
      "3\n"
     ]
    }
   ],
   "source": [
    "def primenumber(x):\n",
    "    for i in range(2, x):\n",
    "        if x % i == 0:\n",
    "            return False\n",
    "        \n",
    "    return True\n",
    "\n",
    "n = int(input())\n",
    "data = list(map(int, input().split()))\n",
    "result = 0\n",
    "\n",
    "for i in data:\n",
    "    \n",
    "    if i == 1:\n",
    "        continue\n",
    "    \n",
    "    temp = primenumber(i)\n",
    "    if temp:\n",
    "        result += 1\n",
    "        \n",
    "print(result)"
   ]
  },
  {
   "cell_type": "code",
   "execution_count": null,
   "id": "87071321",
   "metadata": {},
   "outputs": [],
   "source": []
  }
 ],
 "metadata": {
  "kernelspec": {
   "display_name": "Python 3 (ipykernel)",
   "language": "python",
   "name": "python3"
  },
  "language_info": {
   "codemirror_mode": {
    "name": "ipython",
    "version": 3
   },
   "file_extension": ".py",
   "mimetype": "text/x-python",
   "name": "python",
   "nbconvert_exporter": "python",
   "pygments_lexer": "ipython3",
   "version": "3.8.6"
  }
 },
 "nbformat": 4,
 "nbformat_minor": 5
}
