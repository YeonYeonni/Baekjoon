{
 "cells": [
  {
   "cell_type": "code",
   "execution_count": 25,
   "id": "5115e067",
   "metadata": {},
   "outputs": [
    {
     "name": "stdout",
     "output_type": "stream",
     "text": [
      "734 893\n",
      "437\n"
     ]
    }
   ],
   "source": [
    "a, b = map(str, input().split())\n",
    "\n",
    "a = int(a[2] + a[1] + a[0])\n",
    "b = int(b[2] + b[1] + b[0])\n",
    "\n",
    "print(max(a, b))"
   ]
  },
  {
   "cell_type": "code",
   "execution_count": null,
   "id": "ee86ec88",
   "metadata": {},
   "outputs": [],
   "source": []
  }
 ],
 "metadata": {
  "kernelspec": {
   "display_name": "Python 3 (ipykernel)",
   "language": "python",
   "name": "python3"
  },
  "language_info": {
   "codemirror_mode": {
    "name": "ipython",
    "version": 3
   },
   "file_extension": ".py",
   "mimetype": "text/x-python",
   "name": "python",
   "nbconvert_exporter": "python",
   "pygments_lexer": "ipython3",
   "version": "3.8.6"
  }
 },
 "nbformat": 4,
 "nbformat_minor": 5
}
