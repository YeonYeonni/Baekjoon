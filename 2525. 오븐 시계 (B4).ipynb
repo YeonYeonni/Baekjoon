{
 "cells": [
  {
   "cell_type": "code",
   "execution_count": 105,
   "id": "3c37a561",
   "metadata": {},
   "outputs": [
    {
     "name": "stdout",
     "output_type": "stream",
     "text": [
      "23 48\n",
      "85\n",
      "1 13\n"
     ]
    }
   ],
   "source": [
    "A, B = map(int, input().split())\n",
    "C = int(input())\n",
    "\n",
    "hour = A\n",
    "minute = B + C\n",
    "\n",
    "extra = 0\n",
    "\n",
    "if minute < 60:\n",
    "    print(hour, minute)\n",
    "    \n",
    "else:\n",
    "    extra += minute // 60\n",
    "    A += extra\n",
    "    \n",
    "    if A < 24:\n",
    "        print(A, (minute - extra*60))\n",
    "        \n",
    "    else:\n",
    "        print((A - 24), (minute - extra*60))"
   ]
  },
  {
   "cell_type": "code",
   "execution_count": 14,
   "id": "829114a5",
   "metadata": {},
   "outputs": [
    {
     "name": "stdout",
     "output_type": "stream",
     "text": [
      "23 48\n",
      "85\n",
      "1 13\n"
     ]
    }
   ],
   "source": [
    "A, B = map(int, input().split())\n",
    "C = int(input())\n",
    "\n",
    "A += C // 60 # 먼저, 걸리는 시간의 시와 분을 분리.\n",
    "B += C % 60 # 원래 시와 분에 더해줌.\n",
    "\n",
    "if B >= 60:\n",
    "    A += 1\n",
    "    B -= 60\n",
    "    \n",
    "if A >= 24:\n",
    "    A -= 24\n",
    "    \n",
    "print(A, B)"
   ]
  },
  {
   "cell_type": "code",
   "execution_count": null,
   "id": "68cc3a31",
   "metadata": {},
   "outputs": [],
   "source": []
  }
 ],
 "metadata": {
  "kernelspec": {
   "display_name": "Python 3 (ipykernel)",
   "language": "python",
   "name": "python3"
  },
  "language_info": {
   "codemirror_mode": {
    "name": "ipython",
    "version": 3
   },
   "file_extension": ".py",
   "mimetype": "text/x-python",
   "name": "python",
   "nbconvert_exporter": "python",
   "pygments_lexer": "ipython3",
   "version": "3.8.6"
  }
 },
 "nbformat": 4,
 "nbformat_minor": 5
}
