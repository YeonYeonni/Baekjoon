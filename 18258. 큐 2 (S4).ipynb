{
 "cells": [
  {
   "cell_type": "code",
   "execution_count": null,
   "id": "b3c36ec9",
   "metadata": {},
   "outputs": [],
   "source": [
    "import sys\n",
    "from collections import deque\n",
    "input = sys.stdin.readline\n",
    "\n",
    "n = int(input())\n",
    "queue = deque()\n",
    "\n",
    "for i in range(n):\n",
    "    order = input().split()\n",
    "    \n",
    "    if order[0] == 'push':\n",
    "        queue.append(order[1])\n",
    "        \n",
    "    elif order[0] == 'pop':\n",
    "        if queue:\n",
    "            print(queue.popleft())\n",
    "        else:\n",
    "            print(-1)\n",
    "        \n",
    "    elif order[0] == 'size':\n",
    "        print(len(queue))\n",
    "        \n",
    "    elif order[0] == 'empty':\n",
    "        if queue:\n",
    "            print(0)\n",
    "        else:\n",
    "            print(1)\n",
    "            \n",
    "    elif order[0] == 'front':\n",
    "        if queue:\n",
    "            print(queue[0])\n",
    "        else:\n",
    "            print(-1)\n",
    "            \n",
    "    elif order[0] == 'back':\n",
    "        if queue:\n",
    "            print(queue[-1])\n",
    "        else:\n",
    "            print(-1)"
   ]
  }
 ],
 "metadata": {
  "kernelspec": {
   "display_name": "Python 3 (ipykernel)",
   "language": "python",
   "name": "python3"
  },
  "language_info": {
   "codemirror_mode": {
    "name": "ipython",
    "version": 3
   },
   "file_extension": ".py",
   "mimetype": "text/x-python",
   "name": "python",
   "nbconvert_exporter": "python",
   "pygments_lexer": "ipython3",
   "version": "3.8.6"
  }
 },
 "nbformat": 4,
 "nbformat_minor": 5
}
