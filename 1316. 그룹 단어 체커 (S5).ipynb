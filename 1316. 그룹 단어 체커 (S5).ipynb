{
 "cells": [
  {
   "cell_type": "code",
   "execution_count": 74,
   "id": "c2d3b051",
   "metadata": {},
   "outputs": [
    {
     "name": "stdout",
     "output_type": "stream",
     "text": [
      "1\n",
      "z\n",
      "1\n"
     ]
    }
   ],
   "source": [
    "n = int(input())\n",
    "\n",
    "group_word = 0\n",
    "\n",
    "for _ in range(n):\n",
    "    word = input()\n",
    "    error = 0\n",
    "    \n",
    "    for idx in range(len(word) - 1):\n",
    "        if word[idx] != word[idx+1]:\n",
    "            new_word = word[idx+1:] # 현재글자 이후로 구성된 새로운 단어 생성\n",
    "            if new_word.count(word[idx]) != 0: # 현재글자가 새로 구성된 단어에 있으면,\n",
    "                error += 1\n",
    "                \n",
    "    if error == 0:\n",
    "        group_word += 1\n",
    "        \n",
    "print(group_word)"
   ]
  },
  {
   "cell_type": "code",
   "execution_count": null,
   "id": "a2d83fc8",
   "metadata": {},
   "outputs": [],
   "source": []
  }
 ],
 "metadata": {
  "kernelspec": {
   "display_name": "Python 3 (ipykernel)",
   "language": "python",
   "name": "python3"
  },
  "language_info": {
   "codemirror_mode": {
    "name": "ipython",
    "version": 3
   },
   "file_extension": ".py",
   "mimetype": "text/x-python",
   "name": "python",
   "nbconvert_exporter": "python",
   "pygments_lexer": "ipython3",
   "version": "3.8.6"
  }
 },
 "nbformat": 4,
 "nbformat_minor": 5
}
