{
 "cells": [
  {
   "cell_type": "code",
   "execution_count": null,
   "id": "dc503158",
   "metadata": {},
   "outputs": [],
   "source": [
    "A, B = map(int, input().split())\n",
    "\n",
    "def sum(A, B):\n",
    "    return A+B\n",
    "\n",
    "print(sum(A, B))"
   ]
  },
  {
   "cell_type": "code",
   "execution_count": null,
   "id": "493139fb",
   "metadata": {},
   "outputs": [],
   "source": [
    "A, B = map(int, input().split())\n",
    "\n",
    "def sub(A, B):\n",
    "    return A-B\n",
    "\n",
    "print(sub(A, B))"
   ]
  },
  {
   "cell_type": "code",
   "execution_count": null,
   "id": "ec01da79",
   "metadata": {},
   "outputs": [],
   "source": [
    "A, B = map(int, input().split())\n",
    "\n",
    "def multi(A, B):\n",
    "    return A*B\n",
    "\n",
    "print(multi(A, B))"
   ]
  },
  {
   "cell_type": "code",
   "execution_count": null,
   "id": "3d8f8097",
   "metadata": {},
   "outputs": [],
   "source": [
    "A, B = map(int, input().split())\n",
    "\n",
    "def divide(A, B):\n",
    "    return A / B\n",
    "\n",
    "print(divide(A, B))"
   ]
  }
 ],
 "metadata": {
  "kernelspec": {
   "display_name": "Python 3 (ipykernel)",
   "language": "python",
   "name": "python3"
  },
  "language_info": {
   "codemirror_mode": {
    "name": "ipython",
    "version": 3
   },
   "file_extension": ".py",
   "mimetype": "text/x-python",
   "name": "python",
   "nbconvert_exporter": "python",
   "pygments_lexer": "ipython3",
   "version": "3.8.6"
  }
 },
 "nbformat": 4,
 "nbformat_minor": 5
}
