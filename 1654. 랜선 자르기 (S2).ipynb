{
 "cells": [
  {
   "cell_type": "code",
   "execution_count": 11,
   "id": "01a47ad3",
   "metadata": {},
   "outputs": [
    {
     "name": "stdout",
     "output_type": "stream",
     "text": [
      "4 11\n",
      "802\n",
      "743\n",
      "457\n",
      "539\n",
      "200\n"
     ]
    }
   ],
   "source": [
    "k, n = map(int, input().split())\n",
    "array = []\n",
    "\n",
    "for i in range(k):\n",
    "    array.append(int(input()))\n",
    "    \n",
    "start = 1\n",
    "end = max(array)\n",
    "\n",
    "while start <= end:\n",
    "    total = 0 # 랜선 수\n",
    "    mid = (start + end) // 2\n",
    "    \n",
    "    for x in array:\n",
    "        total += x // mid\n",
    "            \n",
    "    if total < n:\n",
    "        end = mid - 1\n",
    "        \n",
    "    else:\n",
    "        start = mid + 1\n",
    "        \n",
    "print(end)"
   ]
  },
  {
   "cell_type": "code",
   "execution_count": null,
   "id": "802a6731",
   "metadata": {},
   "outputs": [],
   "source": []
  }
 ],
 "metadata": {
  "kernelspec": {
   "display_name": "Python 3 (ipykernel)",
   "language": "python",
   "name": "python3"
  },
  "language_info": {
   "codemirror_mode": {
    "name": "ipython",
    "version": 3
   },
   "file_extension": ".py",
   "mimetype": "text/x-python",
   "name": "python",
   "nbconvert_exporter": "python",
   "pygments_lexer": "ipython3",
   "version": "3.8.6"
  }
 },
 "nbformat": 4,
 "nbformat_minor": 5
}
