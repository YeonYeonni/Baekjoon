{
 "cells": [
  {
   "cell_type": "code",
   "execution_count": 27,
   "id": "2c29c00b",
   "metadata": {},
   "outputs": [
    {
     "name": "stdout",
     "output_type": "stream",
     "text": [
      "3\n",
      "40 80 60\n",
      "75.0\n"
     ]
    }
   ],
   "source": [
    "n = int(input())\n",
    "now = list(map(int, input().split()))\n",
    "after = []\n",
    "\n",
    "m = max(now)\n",
    "\n",
    "for i in now:\n",
    "    after.append(i / m * 100)\n",
    "    \n",
    "print(sum(after) / len(after))"
   ]
  },
  {
   "cell_type": "code",
   "execution_count": null,
   "id": "166f81bc",
   "metadata": {},
   "outputs": [],
   "source": []
  }
 ],
 "metadata": {
  "kernelspec": {
   "display_name": "Python 3 (ipykernel)",
   "language": "python",
   "name": "python3"
  },
  "language_info": {
   "codemirror_mode": {
    "name": "ipython",
    "version": 3
   },
   "file_extension": ".py",
   "mimetype": "text/x-python",
   "name": "python",
   "nbconvert_exporter": "python",
   "pygments_lexer": "ipython3",
   "version": "3.8.6"
  }
 },
 "nbformat": 4,
 "nbformat_minor": 5
}
