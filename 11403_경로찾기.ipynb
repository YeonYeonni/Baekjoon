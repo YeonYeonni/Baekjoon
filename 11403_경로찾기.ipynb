{
 "cells": [
  {
   "cell_type": "markdown",
   "id": "8c41dbd9",
   "metadata": {},
   "source": [
    "- 모든 정점 (i, j) 에 대해서, i에서 j로 가는 경로가 있는지 없는지 구하기\n",
    "- 숫자가 1인 경우, i에서 j로 가는 간선이 존재.\n",
    "- 숫자가 0인 경우, 없다는 뜻."
   ]
  },
  {
   "cell_type": "code",
   "execution_count": null,
   "id": "465f696f",
   "metadata": {},
   "outputs": [],
   "source": [
    "import sys\n",
    "input = sys.stdin.realine"
   ]
  },
  {
   "cell_type": "code",
   "execution_count": 19,
   "id": "cd7eb05b",
   "metadata": {},
   "outputs": [
    {
     "name": "stdout",
     "output_type": "stream",
     "text": [
      "3\n",
      "0 1 0\n",
      "0 0 1\n",
      "1 0 0\n"
     ]
    }
   ],
   "source": [
    "# 정점의 개수\n",
    "n = int(input())\n",
    "\n",
    "# 그래프의 인접 행렬\n",
    "graph = [list(map(int, input().split())) for _ in range(n)]\n",
    "\n",
    "# 정답지\n",
    "result = [[0] * (n) for _ in range(n)]"
   ]
  },
  {
   "cell_type": "markdown",
   "id": "5f0366a0",
   "metadata": {},
   "source": [
    "- 0 -> 1, 1 -> 2, 2 -> 0\n",
    "\n",
    "- 0, 1, 2 셋 다 통함\n",
    "- 모든 행렬이 1"
   ]
  },
  {
   "cell_type": "markdown",
   "id": "e956f8ad",
   "metadata": {},
   "source": [
    "### 플로이드 워셜을 찾아보자\n",
    "\n",
    "- 전 과정에 있는 경로에 대해 1"
   ]
  },
  {
   "cell_type": "markdown",
   "id": "6440cee8",
   "metadata": {},
   "source": [
    "- 0 -> 1\n",
    "- 0 -> 1 -> 2\n",
    "- 0 -> 1 -> 2 -> 0\n",
    "\n",
    "- 1 -> 2\n",
    "- 1 -> 2 -> 0\n",
    "- 1 -> 2 -> 0 -> 1\n",
    "\n",
    "- 2 -> 0\n",
    "- 2 -> 0 -> 1\n",
    "- 2 -> 0 -> 1 -> 2"
   ]
  },
  {
   "cell_type": "code",
   "execution_count": 20,
   "id": "6cd05318",
   "metadata": {},
   "outputs": [
    {
     "name": "stdout",
     "output_type": "stream",
     "text": [
      "[[1, 1, 1], [1, 1, 1], [1, 1, 1]]\n"
     ]
    }
   ],
   "source": [
    "for k in range(n):\n",
    "    for a in range(n):\n",
    "        for b in range(n):\n",
    "            if graph[a][b] == 1 or graph[a][k] == 1 or graph[k][b] == 1\n",
    "                result[a][b] = 1\n",
    "                \n",
    "print(result)"
   ]
  },
  {
   "cell_type": "code",
   "execution_count": 26,
   "id": "b009adc7",
   "metadata": {},
   "outputs": [
    {
     "name": "stdout",
     "output_type": "stream",
     "text": [
      "1 1 1\n",
      "1 1 1\n",
      "1 1 1\n"
     ]
    }
   ],
   "source": [
    "for i in result:\n",
    "    print(*i)"
   ]
  },
  {
   "cell_type": "code",
   "execution_count": null,
   "id": "dbb4b557",
   "metadata": {},
   "outputs": [],
   "source": []
  },
  {
   "cell_type": "code",
   "execution_count": 72,
   "id": "ae480509",
   "metadata": {},
   "outputs": [
    {
     "name": "stdout",
     "output_type": "stream",
     "text": [
      "3\n",
      "0 1 0\n",
      "0 0 1\n",
      "1 0 0\n"
     ]
    }
   ],
   "source": [
    "# 정점의 개수\n",
    "n = int(input())\n",
    "\n",
    "# 그래프의 인접 행렬\n",
    "graph = [list(map(int, input().split())) for _ in range(n)]"
   ]
  },
  {
   "cell_type": "code",
   "execution_count": 76,
   "id": "794c68de",
   "metadata": {},
   "outputs": [
    {
     "name": "stdout",
     "output_type": "stream",
     "text": [
      "0 1 1\n",
      "1 0 1\n",
      "1 1 0\n"
     ]
    }
   ],
   "source": [
    "# 정답지\n",
    "result = [[0] * (n) for _ in range(n)]\n",
    "\n",
    "# 경로 탐색\n",
    "for k in range(n):\n",
    "    for a in range(n):\n",
    "        for b in range(n):\n",
    "            \n",
    "            # 처음 (a), 중간 (k), 끝 (b) 모든 좌표를 검사해 1이면 1을 추가\n",
    "            # 논리상으로는 중간 다리가 끊기면 안됨.\n",
    "            if graph[a][b] == 1 or (graph[a][k] == 1 and graph[k][b] == 1):\n",
    "                result[a][b] = 1\n",
    "\n",
    "# 정답 출력\n",
    "for i in result:\n",
    "    print(*i)"
   ]
  },
  {
   "cell_type": "markdown",
   "id": "11b1e268",
   "metadata": {},
   "source": [
    "## 정답"
   ]
  },
  {
   "cell_type": "code",
   "execution_count": 79,
   "id": "b410ce3e",
   "metadata": {},
   "outputs": [
    {
     "name": "stdout",
     "output_type": "stream",
     "text": [
      "3\n",
      "0 1 0\n",
      "0 0 1\n",
      "1 0 0\n"
     ]
    }
   ],
   "source": [
    "#입력\n",
    "n = int(input())\n",
    "graph = [list(map(int, input().split())) for _ in range(n)]"
   ]
  },
  {
   "cell_type": "code",
   "execution_count": 80,
   "id": "1ab8a1e5",
   "metadata": {},
   "outputs": [
    {
     "name": "stdout",
     "output_type": "stream",
     "text": [
      "1 1 1\n",
      "1 1 1\n",
      "1 1 1\n"
     ]
    }
   ],
   "source": [
    "#플로이드-워셜 알고리즘\n",
    "for k in range(n): #경로 for문이 가장 상위 단계여야 누락되지 않는다\n",
    "    for i in range(n):\n",
    "        for j in range(n): \n",
    "            if graph[i][j] == 1 or (graph[i][k] == 1 and graph[k][j] == 1):\n",
    "                graph[i][j] = 1\n",
    "\n",
    "# 정답 출력\n",
    "for i in graph:\n",
    "    print(*i)"
   ]
  },
  {
   "cell_type": "code",
   "execution_count": null,
   "id": "3aba8e54",
   "metadata": {},
   "outputs": [],
   "source": []
  }
 ],
 "metadata": {
  "kernelspec": {
   "display_name": "Python 3 (ipykernel)",
   "language": "python",
   "name": "python3"
  },
  "language_info": {
   "codemirror_mode": {
    "name": "ipython",
    "version": 3
   },
   "file_extension": ".py",
   "mimetype": "text/x-python",
   "name": "python",
   "nbconvert_exporter": "python",
   "pygments_lexer": "ipython3",
   "version": "3.9.13"
  }
 },
 "nbformat": 4,
 "nbformat_minor": 5
}
