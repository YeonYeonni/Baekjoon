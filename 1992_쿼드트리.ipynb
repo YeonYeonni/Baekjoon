{
 "cells": [
  {
   "cell_type": "markdown",
   "id": "97fc0685",
   "metadata": {},
   "source": [
    "- 흰점 0과 검은점 1로만 이루어진 영상\n",
    "- 같은 숫자의 점들이 한 곳에 많이 몰려있음 -> 압축하여 표현"
   ]
  },
  {
   "cell_type": "code",
   "execution_count": 31,
   "id": "2bb5772b",
   "metadata": {},
   "outputs": [
    {
     "name": "stdout",
     "output_type": "stream",
     "text": [
      "8\n",
      "11110000\n",
      "11110000\n",
      "00011100\n",
      "00011100\n",
      "11110000\n",
      "11110000\n",
      "11110011\n",
      "11110011\n",
      "((110(0101))(0010)1(0001))\n"
     ]
    }
   ],
   "source": [
    "# 함수 선언\n",
    "def quad_tree(x, y, n):\n",
    "    \n",
    "    # 첫 원소\n",
    "    first = graph[x][y]\n",
    "    \n",
    "    for i in range(x, x + n):\n",
    "        for j in range(y, y + n):\n",
    "            \n",
    "            # 순차 탐색 후 숫자가 다르면 재귀 함수\n",
    "            if first != graph[i][j]:\n",
    "                result.append('(')\n",
    "                quad_tree(x, y, n//2)\n",
    "                quad_tree(x, y+n//2, n//2)\n",
    "                quad_tree(x+n//2, y, n//2)\n",
    "                quad_tree(x+n//2, y+n//2, n//2)\n",
    "                result.append(')')\n",
    "                return\n",
    "            \n",
    "    # 각 분할의 첫 원소를 추가\n",
    "    if first == '1':\n",
    "        result.append('1')\n",
    "        \n",
    "    if first == '0':\n",
    "        result.append('0')\n",
    "\n",
    "# 입력\n",
    "n = int(input())\n",
    "graph = [list(input()) for _ in range(n)]\n",
    "result = []\n",
    "        \n",
    "quad_tree(0, 0, n)\n",
    "\n",
    "# 결과 출력\n",
    "print(''.join(result))"
   ]
  },
  {
   "cell_type": "code",
   "execution_count": null,
   "id": "cdec2696",
   "metadata": {},
   "outputs": [],
   "source": []
  }
 ],
 "metadata": {
  "kernelspec": {
   "display_name": "Python 3 (ipykernel)",
   "language": "python",
   "name": "python3"
  },
  "language_info": {
   "codemirror_mode": {
    "name": "ipython",
    "version": 3
   },
   "file_extension": ".py",
   "mimetype": "text/x-python",
   "name": "python",
   "nbconvert_exporter": "python",
   "pygments_lexer": "ipython3",
   "version": "3.9.13"
  }
 },
 "nbformat": 4,
 "nbformat_minor": 5
}
