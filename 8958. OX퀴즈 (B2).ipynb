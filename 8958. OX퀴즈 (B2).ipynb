{
 "cells": [
  {
   "cell_type": "code",
   "execution_count": 14,
   "id": "674ad98b",
   "metadata": {},
   "outputs": [
    {
     "name": "stdout",
     "output_type": "stream",
     "text": [
      "2\n",
      "OOXXOXXOOO\n",
      "10\n",
      "OOXXOOXXOO\n",
      "9\n"
     ]
    }
   ],
   "source": [
    "n = int(input())\n",
    "result = []\n",
    "correct = []\n",
    "accum = 0\n",
    "\n",
    "for i in range(n):\n",
    "    result = input()\n",
    "    accum = 0\n",
    "    \n",
    "    for j in result:\n",
    "        if j == 'O':\n",
    "            accum += 1\n",
    "            correct.append(accum)\n",
    "            \n",
    "        else:\n",
    "            correct.append(0)\n",
    "            accum = 0\n",
    "            \n",
    "    print(sum(correct))\n",
    "    correct = []"
   ]
  }
 ],
 "metadata": {
  "kernelspec": {
   "display_name": "Python 3 (ipykernel)",
   "language": "python",
   "name": "python3"
  },
  "language_info": {
   "codemirror_mode": {
    "name": "ipython",
    "version": 3
   },
   "file_extension": ".py",
   "mimetype": "text/x-python",
   "name": "python",
   "nbconvert_exporter": "python",
   "pygments_lexer": "ipython3",
   "version": "3.8.6"
  }
 },
 "nbformat": 4,
 "nbformat_minor": 5
}
