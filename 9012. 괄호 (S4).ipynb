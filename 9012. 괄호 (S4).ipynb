{
 "cells": [
  {
   "cell_type": "code",
   "execution_count": null,
   "id": "22f85a54",
   "metadata": {},
   "outputs": [],
   "source": [
    "t = int(input())\n",
    "\n",
    "for i in range(t):\n",
    "    stack = []\n",
    "    n = input()\n",
    "    \n",
    "    for j in n:\n",
    "        if j == '(':\n",
    "            stack.append(j)\n",
    "            \n",
    "        elif j == ')':\n",
    "            \n",
    "            if stack:\n",
    "                stack.pop()\n",
    "                \n",
    "            else:\n",
    "                print('NO')\n",
    "                break\n",
    "                \n",
    "    else:\n",
    "        if not stack:\n",
    "            print('YES')\n",
    "            \n",
    "        else:\n",
    "            print('NO')"
   ]
  }
 ],
 "metadata": {
  "kernelspec": {
   "display_name": "Python 3 (ipykernel)",
   "language": "python",
   "name": "python3"
  },
  "language_info": {
   "codemirror_mode": {
    "name": "ipython",
    "version": 3
   },
   "file_extension": ".py",
   "mimetype": "text/x-python",
   "name": "python",
   "nbconvert_exporter": "python",
   "pygments_lexer": "ipython3",
   "version": "3.8.6"
  }
 },
 "nbformat": 4,
 "nbformat_minor": 5
}
