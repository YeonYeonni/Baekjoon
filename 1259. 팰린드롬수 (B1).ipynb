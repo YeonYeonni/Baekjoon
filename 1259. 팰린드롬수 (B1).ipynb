{
 "cells": [
  {
   "cell_type": "code",
   "execution_count": null,
   "id": "578cac8e",
   "metadata": {},
   "outputs": [],
   "source": [
    "while True:\n",
    "    n = input()\n",
    "    \n",
    "    if n == '0':\n",
    "        break\n",
    "        \n",
    "    if n == n[::-1]:\n",
    "        print('yes')\n",
    "        \n",
    "    else:\n",
    "        print('no')"
   ]
  }
 ],
 "metadata": {
  "kernelspec": {
   "display_name": "Python 3 (ipykernel)",
   "language": "python",
   "name": "python3"
  },
  "language_info": {
   "codemirror_mode": {
    "name": "ipython",
    "version": 3
   },
   "file_extension": ".py",
   "mimetype": "text/x-python",
   "name": "python",
   "nbconvert_exporter": "python",
   "pygments_lexer": "ipython3",
   "version": "3.8.6"
  }
 },
 "nbformat": 4,
 "nbformat_minor": 5
}
