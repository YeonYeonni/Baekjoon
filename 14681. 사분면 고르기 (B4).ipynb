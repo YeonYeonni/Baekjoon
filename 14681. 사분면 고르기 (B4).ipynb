{
 "cells": [
  {
   "cell_type": "code",
   "execution_count": 5,
   "id": "d198ad61",
   "metadata": {},
   "outputs": [
    {
     "name": "stdout",
     "output_type": "stream",
     "text": [
      "9\n",
      "-13\n",
      "4\n"
     ]
    }
   ],
   "source": [
    "x = int(input())\n",
    "y = int(input())\n",
    "\n",
    "quadrant = [1, 2, 3, 4]\n",
    "\n",
    "if x > 0:\n",
    "    if y > 0:\n",
    "        print(quadrant[0])\n",
    "    if y < 0:\n",
    "        print(quadrant[3])\n",
    "\n",
    "if x < 0:\n",
    "    if y > 0:\n",
    "        print(quadrant[1])\n",
    "    if y < 0:\n",
    "        print(quadrant[2])"
   ]
  },
  {
   "cell_type": "code",
   "execution_count": null,
   "id": "a775cfc5",
   "metadata": {},
   "outputs": [],
   "source": []
  }
 ],
 "metadata": {
  "kernelspec": {
   "display_name": "Python 3 (ipykernel)",
   "language": "python",
   "name": "python3"
  },
  "language_info": {
   "codemirror_mode": {
    "name": "ipython",
    "version": 3
   },
   "file_extension": ".py",
   "mimetype": "text/x-python",
   "name": "python",
   "nbconvert_exporter": "python",
   "pygments_lexer": "ipython3",
   "version": "3.8.6"
  }
 },
 "nbformat": 4,
 "nbformat_minor": 5
}
