{
 "cells": [
  {
   "cell_type": "code",
   "execution_count": 19,
   "id": "895622b4",
   "metadata": {},
   "outputs": [
    {
     "name": "stdout",
     "output_type": "stream",
     "text": [
      "5\n",
      "1\n",
      "3\n",
      "8\n",
      "-2\n",
      "2\n"
     ]
    }
   ],
   "source": [
    "import sys\n",
    "from collections import Counter\n",
    "\n",
    "#input = sys.stdin.readline\n",
    "\n",
    "n = int(input())\n",
    "array = []\n",
    "\n",
    "for i in range(n):\n",
    "    array.append(int(input()))\n",
    "    \n",
    "array.sort()\n",
    "\n",
    "# 산술평균\n",
    "print(round(sum(array) / len(array)))\n",
    "\n",
    "# 중앙값\n",
    "print(array[len(array) // 2])\n",
    "\n",
    "# 최빈값\n",
    "from collections import Counter\n",
    "\n",
    "cnt = Counter(array).most_common(2)\n",
    "\n",
    "if len(array) > 1:\n",
    "    if cnt[0][1] == cnt[1][1]:\n",
    "        print(cnt[1][0])\n",
    "    else:\n",
    "        print(cnt[0][0])\n",
    "else:\n",
    "    print(cnt[0][0])\n",
    "\n",
    "# 범위\n",
    "print(max(array) - min(array))"
   ]
  },
  {
   "cell_type": "code",
   "execution_count": null,
   "id": "10f29230",
   "metadata": {},
   "outputs": [],
   "source": []
  }
 ],
 "metadata": {
  "kernelspec": {
   "display_name": "Python 3 (ipykernel)",
   "language": "python",
   "name": "python3"
  },
  "language_info": {
   "codemirror_mode": {
    "name": "ipython",
    "version": 3
   },
   "file_extension": ".py",
   "mimetype": "text/x-python",
   "name": "python",
   "nbconvert_exporter": "python",
   "pygments_lexer": "ipython3",
   "version": "3.8.6"
  }
 },
 "nbformat": 4,
 "nbformat_minor": 5
}
