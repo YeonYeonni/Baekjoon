{
 "cells": [
  {
   "cell_type": "markdown",
   "id": "7872caee",
   "metadata": {},
   "source": [
    "- 최대 6단계 이내에서 서로 아는 사람으로 연결\n",
    "- 임의의 두 사람이 최소 몇 단계만에 이어질 수 있는지 계산\n",
    "- 케빈 베이컨 수가 가장 작은 사람\n",
    "    - 케빈 베이컨 수는 모든 사람과 케빈 베이컨 게임을 했을 때 나오는 단계의 합\n",
    "    - 1, 3 / 1, 4 / 2, 3 / 3, 4 / 4, 5\n",
    "    - 1의 경우\n",
    "        - 2까지 1 -> 3 -> 2 : 2단계\n",
    "        - 3까지 1 -> 3 : 1단계\n",
    "        - 4까지 1 -> 4 : 1단계\n",
    "        - 5까지 1 -> 4 -> 5 : 2단계\n",
    "    - 2의 경우\n",
    "        - 1까지 2 -> 3 -> 1 : 2단계\n",
    "        - 3까지 2 -> 3 : 1단계\n",
    "        - 4까지 2 -> 3 -> 4 : 2단계\n",
    "        - 5까지 2 -> 3 -> 4 -> 5 : 3단계\n",
    "    - 3의 경우\n",
    "        - 1까지\n",
    "        - 2까지\n",
    "        - 4까지\n",
    "        - 5까지\n",
    "    - 4의 경우\n",
    "        - 1까지\n",
    "        - 2까지\n",
    "        - 3까지\n",
    "        - 5까지\n",
    "    - 5의 경우\n",
    "        - 1까지\n",
    "        - 2까지\n",
    "        - 3까지\n",
    "        - 4까지\n",
    "    - 5명의 유저 중에서 케빈 베이컨의 수가 가장 작은 사람은 3과 4"
   ]
  },
  {
   "cell_type": "code",
   "execution_count": 1,
   "id": "0ea0a003",
   "metadata": {},
   "outputs": [],
   "source": [
    "def dfs(start, graph):\n",
    "    num = [0] * (n + 1)\n",
    "    visited = [False] * (n + 1)\n",
    "    stack = []\n",
    "    stack.append(start)\n",
    "    \n",
    "    while stack:\n",
    "        v = stack.pop()\n",
    "        for i in graph[v]:\n",
    "            if not visited[i]:\n",
    "                num[i] = num[v] + 1\n",
    "                visited[i] = True\n",
    "                stack.append(i)\n",
    "    \n",
    "    return sum(num)"
   ]
  },
  {
   "cell_type": "code",
   "execution_count": 2,
   "id": "02035ad2",
   "metadata": {},
   "outputs": [
    {
     "name": "stdout",
     "output_type": "stream",
     "text": [
      "5 5\n",
      "1 3\n",
      "1 4\n",
      "4 5\n",
      "4 3\n",
      "3 2\n"
     ]
    }
   ],
   "source": [
    "# 유저의 수, 관계의 수\n",
    "n, m = map(int, input().split())\n",
    "graph = [[] for _ in range(n+1)]\n",
    "for _ in range(m):\n",
    "    a, b = map(int, input().split())\n",
    "    graph[a].append(b)\n",
    "    graph[b].append(a)\n",
    "    \n",
    "for i in graph:\n",
    "    i.sort(reverse=True)"
   ]
  },
  {
   "cell_type": "code",
   "execution_count": 4,
   "id": "37a9c4e3",
   "metadata": {},
   "outputs": [
    {
     "name": "stdout",
     "output_type": "stream",
     "text": [
      "[0, 2, 2, 1, 1, 2]\n",
      "[0, 2, 2, 1, 2, 3]\n",
      "[0, 1, 1, 2, 1, 2]\n",
      "[0, 1, 2, 1, 2, 1]\n",
      "[0, 2, 3, 2, 1, 2]\n"
     ]
    }
   ],
   "source": [
    "result = []\n",
    "\n",
    "for i in range(1, n + 1):\n",
    "    result.append(dfs(i, graph))\n",
    "        \n",
    "print((result.index(min(result)) + 1))"
   ]
  },
  {
   "cell_type": "code",
   "execution_count": null,
   "id": "a8c725dc",
   "metadata": {},
   "outputs": [],
   "source": []
  }
 ],
 "metadata": {
  "kernelspec": {
   "display_name": "Python 3 (ipykernel)",
   "language": "python",
   "name": "python3"
  },
  "language_info": {
   "codemirror_mode": {
    "name": "ipython",
    "version": 3
   },
   "file_extension": ".py",
   "mimetype": "text/x-python",
   "name": "python",
   "nbconvert_exporter": "python",
   "pygments_lexer": "ipython3",
   "version": "3.9.13"
  }
 },
 "nbformat": 4,
 "nbformat_minor": 5
}
