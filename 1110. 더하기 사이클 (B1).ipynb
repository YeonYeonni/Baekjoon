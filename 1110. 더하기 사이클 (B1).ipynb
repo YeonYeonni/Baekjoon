{
 "cells": [
  {
   "cell_type": "code",
   "execution_count": 92,
   "id": "69c2f3c5",
   "metadata": {},
   "outputs": [
    {
     "name": "stdout",
     "output_type": "stream",
     "text": [
      "26\n",
      "4\n"
     ]
    }
   ],
   "source": [
    "n = input()\n",
    "\n",
    "if int(n) < 10:\n",
    "    n = '0' + n\n",
    "    \n",
    "start = n\n",
    "idx = 0\n",
    "\n",
    "# str_numm: 왼쪽 오른쪽 수 더함.\n",
    "str_summ = n[0] + n[1]\n",
    "\n",
    "# n: 덧셈 연산.\n",
    "n = str(int(n[0]) + int(n[1]))\n",
    "\n",
    "while True:\n",
    "    str_summ = str_summ[1] + n[-1]\n",
    "\n",
    "# n: 덧셈 연산.\n",
    "    n = str(int(str_summ[0]) + int(str_summ[1]))\n",
    "\n",
    "    idx += 1\n",
    "    \n",
    "    if start == str_summ:\n",
    "        break\n",
    "        \n",
    "print(idx)"
   ]
  },
  {
   "cell_type": "code",
   "execution_count": null,
   "id": "942942fc",
   "metadata": {},
   "outputs": [],
   "source": []
  }
 ],
 "metadata": {
  "kernelspec": {
   "display_name": "Python 3 (ipykernel)",
   "language": "python",
   "name": "python3"
  },
  "language_info": {
   "codemirror_mode": {
    "name": "ipython",
    "version": 3
   },
   "file_extension": ".py",
   "mimetype": "text/x-python",
   "name": "python",
   "nbconvert_exporter": "python",
   "pygments_lexer": "ipython3",
   "version": "3.8.6"
  }
 },
 "nbformat": 4,
 "nbformat_minor": 5
}
