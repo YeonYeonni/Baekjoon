{
 "cells": [
  {
   "cell_type": "code",
   "execution_count": 13,
   "id": "d6d95132",
   "metadata": {},
   "outputs": [
    {
     "name": "stdout",
     "output_type": "stream",
     "text": [
      "UNUCIC\n",
      "36\n"
     ]
    }
   ],
   "source": [
    "alpha = ['ABC', 'DEF', 'GHI',\n",
    "         'JKL', 'MNO', 'PQRS',\n",
    "         'TUV', 'WXYZ']\n",
    "\n",
    "s = input()\n",
    "\n",
    "time = 0\n",
    "\n",
    "for i in range(len(alpha)):\n",
    "    for j in range(len(s)):\n",
    "        if s[j] in alpha[i]:\n",
    "            time += (i+3)\n",
    "            \n",
    "print(time)"
   ]
  },
  {
   "cell_type": "code",
   "execution_count": null,
   "id": "bfb45e34",
   "metadata": {},
   "outputs": [],
   "source": []
  }
 ],
 "metadata": {
  "kernelspec": {
   "display_name": "Python 3 (ipykernel)",
   "language": "python",
   "name": "python3"
  },
  "language_info": {
   "codemirror_mode": {
    "name": "ipython",
    "version": 3
   },
   "file_extension": ".py",
   "mimetype": "text/x-python",
   "name": "python",
   "nbconvert_exporter": "python",
   "pygments_lexer": "ipython3",
   "version": "3.8.6"
  }
 },
 "nbformat": 4,
 "nbformat_minor": 5
}
