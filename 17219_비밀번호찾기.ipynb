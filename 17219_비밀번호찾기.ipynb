{
 "cells": [
  {
   "cell_type": "code",
   "execution_count": 7,
   "id": "5e654652",
   "metadata": {},
   "outputs": [
    {
     "name": "stdout",
     "output_type": "stream",
     "text": [
      "16 4\n"
     ]
    }
   ],
   "source": [
    "n, m = map(int, input().split())"
   ]
  },
  {
   "cell_type": "code",
   "execution_count": 8,
   "id": "32d88fc8",
   "metadata": {
    "scrolled": true
   },
   "outputs": [
    {
     "name": "stdout",
     "output_type": "stream",
     "text": [
      "noj.am IU\n",
      "acmicpc.net UAENA\n",
      "startlink.io THEKINGOD\n",
      "google.com ZEZE\n",
      "nate.com VOICEMAIL\n",
      "naver.com REDQUEEN\n",
      "daum.net MODERNTIMES\n",
      "utube.com BLACKOUT\n",
      "zum.com LASTFANTASY\n",
      "dreamwiz.com RAINDROP\n",
      "hanyang.ac.kr SOMEDAY\n",
      "dhlottery.co.kr BOO\n",
      "duksoo.hs.kr HAVANA\n",
      "hanyang-u.ms.kr OBLIVIATE\n",
      "yd.es.kr LOVEATTACK\n",
      "mcc.hanyang.ac.kr ADREAMER\n",
      "startlink.io\n",
      "THEKINGOD\n",
      "acmicpc.net\n",
      "UAENA\n",
      "noj.am\n",
      "IU\n",
      "mcc.hanyang.ac.kr\n",
      "ADREAMER\n"
     ]
    }
   ],
   "source": [
    "dict = {}\n",
    "for _ in range(n):\n",
    "    k, v = map(str, input().split())\n",
    "    dict[k] = v\n",
    "    \n",
    "for _ in range(m):\n",
    "    site = str(input())\n",
    "    print(dict[site])"
   ]
  },
  {
   "cell_type": "code",
   "execution_count": null,
   "id": "a070cc67",
   "metadata": {},
   "outputs": [],
   "source": []
  }
 ],
 "metadata": {
  "kernelspec": {
   "display_name": "Python 3 (ipykernel)",
   "language": "python",
   "name": "python3"
  },
  "language_info": {
   "codemirror_mode": {
    "name": "ipython",
    "version": 3
   },
   "file_extension": ".py",
   "mimetype": "text/x-python",
   "name": "python",
   "nbconvert_exporter": "python",
   "pygments_lexer": "ipython3",
   "version": "3.9.13"
  }
 },
 "nbformat": 4,
 "nbformat_minor": 5
}
