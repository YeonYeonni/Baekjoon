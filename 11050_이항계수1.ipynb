{
 "cells": [
  {
   "attachments": {
    "image.png": {
     "image/png": "[encoded data removed]"
    }
   },
   "cell_type": "markdown",
   "id": "4c5ea9a4",
   "metadata": {},
   "source": [
    "![image.png](attachment:image.png)"
   ]
  },
  {
   "cell_type": "code",
   "execution_count": 5,
   "id": "8db21aae",
   "metadata": {},
   "outputs": [
    {
     "name": "stdout",
     "output_type": "stream",
     "text": [
      "5 2\n"
     ]
    }
   ],
   "source": [
    "# 자연수, 정수\n",
    "n, k = map(int, input().split())"
   ]
  },
  {
   "cell_type": "code",
   "execution_count": 6,
   "id": "4c99acb7",
   "metadata": {},
   "outputs": [],
   "source": [
    "# factorial 정의\n",
    "def factorial(n):\n",
    "    result = 1\n",
    "    \n",
    "    if n == 0:\n",
    "        return 1\n",
    "    \n",
    "    for i in range(1, n + 1):\n",
    "        result *= i\n",
    "    return result"
   ]
  },
  {
   "cell_type": "code",
   "execution_count": 8,
   "id": "84888b46",
   "metadata": {},
   "outputs": [
    {
     "name": "stdout",
     "output_type": "stream",
     "text": [
      "10\n"
     ]
    }
   ],
   "source": [
    "# nCk를 출력\n",
    "\n",
    "print(factorial(n) // (factorial(k) * factorial(n - k)))"
   ]
  },
  {
   "attachments": {
    "image.png": {
     "image/png": "[encoded data removed]"
    }
   },
   "cell_type": "markdown",
   "id": "db7f30a1",
   "metadata": {},
   "source": [
    "![image.png](attachment:image.png)"
   ]
  },
  {
   "cell_type": "markdown",
   "id": "a9b26e53",
   "metadata": {},
   "source": [
    "#### 방법 2"
   ]
  },
  {
   "cell_type": "code",
   "execution_count": 2,
   "id": "e14fd3ca",
   "metadata": {},
   "outputs": [
    {
     "name": "stdout",
     "output_type": "stream",
     "text": [
      "5 2\n",
      "1\n"
     ]
    }
   ],
   "source": [
    "# 자연수, 정수\n",
    "n, k = map(int, input().split())\n",
    "\n",
    "d = [1] * (n + 1)\n",
    "\n",
    "for i in range(1, n + 1):\n",
    "    d[i] = d[i - 1] * i\n",
    "    \n",
    "print(int(d[n] / d[n - k] * d[k]))"
   ]
  },
  {
   "cell_type": "markdown",
   "id": "49179210",
   "metadata": {},
   "source": [
    "#### 방법 3"
   ]
  },
  {
   "cell_type": "code",
   "execution_count": 5,
   "id": "21d49c9e",
   "metadata": {
    "collapsed": true
   },
   "outputs": [
    {
     "name": "stdout",
     "output_type": "stream",
     "text": [
      "5 2\n"
     ]
    },
    {
     "ename": "ValueError",
     "evalue": "invalid literal for int() with base 10: '5 2'",
     "output_type": "error",
     "traceback": [
      "\u001b[1;31m---------------------------------------------------------------------------\u001b[0m",
      "\u001b[1;31mValueError\u001b[0m                                Traceback (most recent call last)",
      "\u001b[1;32m~\\AppData\\Local\\Temp\\ipykernel_7948\\3255954912.py\u001b[0m in \u001b[0;36m<module>\u001b[1;34m\u001b[0m\n\u001b[1;32m----> 1\u001b[1;33m \u001b[0mN\u001b[0m\u001b[1;33m=\u001b[0m \u001b[0mint\u001b[0m\u001b[1;33m(\u001b[0m\u001b[0minput\u001b[0m\u001b[1;33m(\u001b[0m\u001b[1;33m)\u001b[0m\u001b[1;33m)\u001b[0m\u001b[1;33m\u001b[0m\u001b[1;33m\u001b[0m\u001b[0m\n\u001b[0m\u001b[0;32m      2\u001b[0m \u001b[0mn\u001b[0m \u001b[1;33m=\u001b[0m \u001b[0mN\u001b[0m\u001b[1;33m\u001b[0m\u001b[1;33m\u001b[0m\u001b[0m\n\u001b[0;32m      3\u001b[0m \u001b[1;33m\u001b[0m\u001b[0m\n\u001b[0;32m      4\u001b[0m \u001b[1;32mwhile\u001b[0m \u001b[0mn\u001b[0m \u001b[1;33m>\u001b[0m \u001b[1;36m1\u001b[0m\u001b[1;33m:\u001b[0m\u001b[1;33m\u001b[0m\u001b[1;33m\u001b[0m\u001b[0m\n\u001b[0;32m      5\u001b[0m     \u001b[0mnumerator\u001b[0m \u001b[1;33m*=\u001b[0m \u001b[0mn\u001b[0m\u001b[1;33m\u001b[0m\u001b[1;33m\u001b[0m\u001b[0m\n",
      "\u001b[1;31mValueError\u001b[0m: invalid literal for int() with base 10: '5 2'"
     ]
    }
   ],
   "source": [
    "n = N\n",
    "\n",
    "while n > 1:\n",
    "    numerator *= n\n",
    "    \n",
    "    if n <= N - K:\n",
    "        denominator_1 *= n\n",
    "    if n <= K:\n",
    "        denominator_2 *= n\n",
    "        \n",
    "    n -= 1\n",
    "    \n",
    "print(numerator//(denominator_1 * denominator_2))"
   ]
  },
  {
   "cell_type": "markdown",
   "id": "3272d169",
   "metadata": {},
   "source": [
    "#### 방법 4"
   ]
  },
  {
   "cell_type": "code",
   "execution_count": 3,
   "id": "431d3723",
   "metadata": {},
   "outputs": [
    {
     "name": "stdout",
     "output_type": "stream",
     "text": [
      "5 2\n",
      "10\n"
     ]
    }
   ],
   "source": [
    "# combinations 사용\n",
    "from itertools import combinations\n",
    "a, b = map(int, input().split())\n",
    "print(len(list(combinations(range(a), b))))"
   ]
  },
  {
   "cell_type": "code",
   "execution_count": 4,
   "id": "c3e0cb1a",
   "metadata": {},
   "outputs": [
    {
     "name": "stdout",
     "output_type": "stream",
     "text": [
      "5 2\n",
      "10\n"
     ]
    }
   ],
   "source": [
    "# 팩토리얼 재귀 함수 사용\n",
    "def combi(a, b):\n",
    "    return factorial(a) / (factorial(b) * factorial(a - b))\n",
    "\n",
    "def factorial(n):\n",
    "    if (n > 1):\n",
    "        return n * factorial(n - 1)\n",
    "    else:\n",
    "        return 1\n",
    "    \n",
    "a, b = map(int, input().split())\n",
    "print(int(combi(a, b)))"
   ]
  },
  {
   "cell_type": "code",
   "execution_count": null,
   "id": "7d6c0418",
   "metadata": {},
   "outputs": [],
   "source": []
  }
 ],
 "metadata": {
  "kernelspec": {
   "display_name": "Python 3 (ipykernel)",
   "language": "python",
   "name": "python3"
  },
  "language_info": {
   "codemirror_mode": {
    "name": "ipython",
    "version": 3
   },
   "file_extension": ".py",
   "mimetype": "text/x-python",
   "name": "python",
   "nbconvert_exporter": "python",
   "pygments_lexer": "ipython3",
   "version": "3.9.13"
  }
 },
 "nbformat": 4,
 "nbformat_minor": 5
}
