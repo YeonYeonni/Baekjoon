{
 "cells": [
  {
   "cell_type": "code",
   "execution_count": 5,
   "id": "250035a2",
   "metadata": {},
   "outputs": [
    {
     "name": "stdout",
     "output_type": "stream",
     "text": [
      "10 4200\n",
      "1\n",
      "5\n",
      "10\n",
      "50\n",
      "100\n",
      "500\n",
      "1000\n",
      "5000\n",
      "10000\n",
      "50000\n",
      "6\n"
     ]
    }
   ],
   "source": [
    "# 동전의 개수, 동전의 가치\n",
    "n, m = map(int, input().split())\n",
    "\n",
    "# 동전\n",
    "coins = []\n",
    "for _ in range(n):\n",
    "    coins.append(int(input()))\n",
    "    \n",
    "coins = sorted(coins, reverse=True)\n",
    "\n",
    "count = 0\n",
    "\n",
    "for coin in coins:\n",
    "    if m < coin:\n",
    "        continue\n",
    "        \n",
    "    count += m // coin\n",
    "    m %= coin\n",
    "    \n",
    "print(count)"
   ]
  },
  {
   "cell_type": "code",
   "execution_count": null,
   "id": "33f3fc7f",
   "metadata": {},
   "outputs": [],
   "source": []
  }
 ],
 "metadata": {
  "kernelspec": {
   "display_name": "Python 3 (ipykernel)",
   "language": "python",
   "name": "python3"
  },
  "language_info": {
   "codemirror_mode": {
    "name": "ipython",
    "version": 3
   },
   "file_extension": ".py",
   "mimetype": "text/x-python",
   "name": "python",
   "nbconvert_exporter": "python",
   "pygments_lexer": "ipython3",
   "version": "3.9.13"
  }
 },
 "nbformat": 4,
 "nbformat_minor": 5
}
