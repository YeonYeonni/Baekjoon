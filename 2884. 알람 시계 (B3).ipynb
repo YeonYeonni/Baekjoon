{
 "cells": [
  {
   "cell_type": "code",
   "execution_count": 77,
   "id": "86e74724",
   "metadata": {},
   "outputs": [
    {
     "name": "stdout",
     "output_type": "stream",
     "text": [
      "0 30\n",
      "23 45\n"
     ]
    }
   ],
   "source": [
    "H, M = map(int, input().split())\n",
    "\n",
    "start = 0, 0\n",
    "end = 23, 59\n",
    "four_five = 0, 45\n",
    "\n",
    "if M - four_five[1] >= 0:\n",
    "    print(H, (M - four_five[1]))\n",
    "    \n",
    "if M - four_five[1] < 0:\n",
    "    \n",
    "    if H - 1 < 0:\n",
    "        print(end[0], 60 + (M - four_five[1]))\n",
    "        \n",
    "    else:\n",
    "        print(H - 1, 60 + (M - four_five[1])) "
   ]
  },
  {
   "cell_type": "code",
   "execution_count": 1,
   "id": "712f1ad1",
   "metadata": {},
   "outputs": [
    {
     "name": "stdout",
     "output_type": "stream",
     "text": [
      "0 30\n",
      "23 45\n"
     ]
    }
   ],
   "source": [
    "H, M = map(int, input().split())\n",
    "\n",
    "if M > 44:\n",
    "    print(H, M - 45)\n",
    "    \n",
    "elif M < 45 and H > 0:\n",
    "    print(H - 1, M + 15)\n",
    "    \n",
    "else:\n",
    "    print(23, M + 15)"
   ]
  },
  {
   "cell_type": "code",
   "execution_count": null,
   "id": "c7e16169",
   "metadata": {},
   "outputs": [],
   "source": []
  }
 ],
 "metadata": {
  "kernelspec": {
   "display_name": "Python 3 (ipykernel)",
   "language": "python",
   "name": "python3"
  },
  "language_info": {
   "codemirror_mode": {
    "name": "ipython",
    "version": 3
   },
   "file_extension": ".py",
   "mimetype": "text/x-python",
   "name": "python",
   "nbconvert_exporter": "python",
   "pygments_lexer": "ipython3",
   "version": "3.8.6"
  }
 },
 "nbformat": 4,
 "nbformat_minor": 5
}
