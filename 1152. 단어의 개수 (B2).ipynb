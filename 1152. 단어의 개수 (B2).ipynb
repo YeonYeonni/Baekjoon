{
 "cells": [
  {
   "cell_type": "code",
   "execution_count": 6,
   "id": "382cccd1",
   "metadata": {},
   "outputs": [
    {
     "name": "stdout",
     "output_type": "stream",
     "text": [
      "The Curious Case of Benjamin Button \n",
      "6\n"
     ]
    }
   ],
   "source": [
    "word = input().split()\n",
    "print(len(word))"
   ]
  },
  {
   "cell_type": "code",
   "execution_count": 32,
   "id": "2858bae5",
   "metadata": {},
   "outputs": [
    {
     "name": "stdout",
     "output_type": "stream",
     "text": [
      "The Curious Case of Benjamin Button \n",
      "6\n"
     ]
    }
   ],
   "source": [
    "s = input()\n",
    "result = 0\n",
    " \n",
    "if s == \" \":\n",
    "    print(0)\n",
    "    \n",
    "else:\n",
    "    s = s.strip()\n",
    "    for i in range(len(s)):\n",
    "        if s[i] == ' ':\n",
    "            result += 1\n",
    "\n",
    "    print(result + 1)"
   ]
  },
  {
   "cell_type": "code",
   "execution_count": null,
   "id": "920e4f59",
   "metadata": {},
   "outputs": [],
   "source": []
  }
 ],
 "metadata": {
  "kernelspec": {
   "display_name": "Python 3 (ipykernel)",
   "language": "python",
   "name": "python3"
  },
  "language_info": {
   "codemirror_mode": {
    "name": "ipython",
    "version": 3
   },
   "file_extension": ".py",
   "mimetype": "text/x-python",
   "name": "python",
   "nbconvert_exporter": "python",
   "pygments_lexer": "ipython3",
   "version": "3.8.6"
  }
 },
 "nbformat": 4,
 "nbformat_minor": 5
}
