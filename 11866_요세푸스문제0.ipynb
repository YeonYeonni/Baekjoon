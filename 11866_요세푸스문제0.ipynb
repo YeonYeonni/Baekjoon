{
 "cells": [
  {
   "cell_type": "code",
   "execution_count": 1,
   "id": "eacb4f50",
   "metadata": {},
   "outputs": [
    {
     "name": "stdout",
     "output_type": "stream",
     "text": [
      "7 3\n"
     ]
    }
   ],
   "source": [
    "from collections import deque\n",
    "\n",
    "n, k = map(int, input().split())\n",
    "graph = list(range(1, n + 1))\n",
    "queue = deque(graph)\n",
    "answer = []"
   ]
  },
  {
   "cell_type": "code",
   "execution_count": 4,
   "id": "e66b6446",
   "metadata": {},
   "outputs": [],
   "source": [
    "while queue:\n",
    "    for _ in range(k - 1):\n",
    "        a = queue.popleft()\n",
    "        queue.append(a)\n",
    "    b = queue.popleft()\n",
    "    answer.append(b)"
   ]
  },
  {
   "cell_type": "code",
   "execution_count": 7,
   "id": "84d5b4d7",
   "metadata": {},
   "outputs": [
    {
     "data": {
      "text/plain": [
       "[3, 6, 2, 7, 5, 1, 4]"
      ]
     },
     "execution_count": 7,
     "metadata": {},
     "output_type": "execute_result"
    }
   ],
   "source": [
    "print('<' + str(answer[0]), end = '')\n",
    "for i in answer[1:]:\n",
    "    print(', ' + str(i), end = '')\n",
    "print('>')"
   ]
  },
  {
   "cell_type": "code",
   "execution_count": null,
   "id": "28f3e11c",
   "metadata": {},
   "outputs": [],
   "source": []
  }
 ],
 "metadata": {
  "kernelspec": {
   "display_name": "Python 3 (ipykernel)",
   "language": "python",
   "name": "python3"
  },
  "language_info": {
   "codemirror_mode": {
    "name": "ipython",
    "version": 3
   },
   "file_extension": ".py",
   "mimetype": "text/x-python",
   "name": "python",
   "nbconvert_exporter": "python",
   "pygments_lexer": "ipython3",
   "version": "3.9.13"
  }
 },
 "nbformat": 4,
 "nbformat_minor": 5
}
