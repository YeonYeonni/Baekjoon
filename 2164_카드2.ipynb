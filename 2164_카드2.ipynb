{
 "cells": [
  {
   "cell_type": "code",
   "execution_count": 8,
   "id": "d8384e13",
   "metadata": {},
   "outputs": [
    {
     "name": "stdout",
     "output_type": "stream",
     "text": [
      "4\n"
     ]
    }
   ],
   "source": [
    "from collections import deque\n",
    "\n",
    "queue = deque([])\n",
    "for i in range(1, int(input())+1):\n",
    "    queue.append(i)"
   ]
  },
  {
   "cell_type": "code",
   "execution_count": 12,
   "id": "adf3292f",
   "metadata": {},
   "outputs": [
    {
     "name": "stdout",
     "output_type": "stream",
     "text": [
      "deque([4])\n"
     ]
    }
   ],
   "source": [
    "while len(queue) != 1:\n",
    "    queue.popleft()\n",
    "    push = queue.popleft()\n",
    "    queue.append(push)\n",
    "    \n",
    "print(queue[0])"
   ]
  },
  {
   "cell_type": "code",
   "execution_count": null,
   "id": "7ee7c4bd",
   "metadata": {},
   "outputs": [],
   "source": []
  }
 ],
 "metadata": {
  "kernelspec": {
   "display_name": "Python 3 (ipykernel)",
   "language": "python",
   "name": "python3"
  },
  "language_info": {
   "codemirror_mode": {
    "name": "ipython",
    "version": 3
   },
   "file_extension": ".py",
   "mimetype": "text/x-python",
   "name": "python",
   "nbconvert_exporter": "python",
   "pygments_lexer": "ipython3",
   "version": "3.9.13"
  }
 },
 "nbformat": 4,
 "nbformat_minor": 5
}
