{
 "cells": [
  {
   "cell_type": "code",
   "execution_count": null,
   "id": "2e890f9e",
   "metadata": {},
   "outputs": [],
   "source": [
    "A, B = map(int, input().split())\n",
    "\n",
    "def comparison(A, B):\n",
    "    if A > B:\n",
    "        print('>')\n",
    "        \n",
    "    if A < B:\n",
    "        print('<')\n",
    "        \n",
    "    if A == B:\n",
    "        print('==')\n",
    "        \n",
    "comparison(A, B)"
   ]
  }
 ],
 "metadata": {
  "kernelspec": {
   "display_name": "Python 3 (ipykernel)",
   "language": "python",
   "name": "python3"
  },
  "language_info": {
   "codemirror_mode": {
    "name": "ipython",
    "version": 3
   },
   "file_extension": ".py",
   "mimetype": "text/x-python",
   "name": "python",
   "nbconvert_exporter": "python",
   "pygments_lexer": "ipython3",
   "version": "3.8.6"
  }
 },
 "nbformat": 4,
 "nbformat_minor": 5
}
