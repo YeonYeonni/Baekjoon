{
 "cells": [
  {
   "cell_type": "markdown",
   "id": "0e7a083b",
   "metadata": {},
   "source": [
    "## 메모리 초과"
   ]
  },
  {
   "cell_type": "code",
   "execution_count": 171,
   "id": "a96662b9",
   "metadata": {},
   "outputs": [
    {
     "name": "stdout",
     "output_type": "stream",
     "text": [
      "2\n",
      "3\n",
      "hat head\n",
      "sung eye\n",
      "turban head\n",
      "5\n",
      "3\n",
      "mask face\n",
      "sung face\n",
      "makeup face\n",
      "3\n"
     ]
    }
   ],
   "source": [
    "from itertools import combinations\n",
    "\n",
    "# test case\n",
    "t = int(input())\n",
    "\n",
    "for _ in range(t):\n",
    "\n",
    "    n = int(input()) # 의상의 수\n",
    "    clothes = [] # 의상의 이름, 의상의 종류\n",
    "    tmp = [] # 의상의 이름\n",
    "    count = 0 # 정답\n",
    "    \n",
    "    for _ in range(n):\n",
    "\n",
    "        # 의상의 이름, 의상의 종류\n",
    "        cloth, type = map(str, input().split())\n",
    "\n",
    "        # 종류가 이미 있는지를 판별\n",
    "        flag = False\n",
    "\n",
    "        # c[0] (종류) 가 이미 있으면 그 내부 리스트에 옷을 삽입\n",
    "        for c in clothes:\n",
    "            if type in c[0]:\n",
    "                c.append(cloth)\n",
    "                flag = True # 종류가 이미 있으니 flag=True\n",
    "\n",
    "        # 새로운 c[0]라면 (flag=False) 내부 리스트를 새로 만들어줌\n",
    "        if not flag:\n",
    "            clothes.append([type, cloth])\n",
    "            \n",
    "    # tmp 만들어주기\n",
    "    for i in clothes:\n",
    "        for j in i[1:]:\n",
    "            tmp.append(j)\n",
    "            \n",
    "    # 개수 세기\n",
    "    if len(clothes) == 1: # 1개일 경우\n",
    "        count = len(tmp)\n",
    "        print(count)\n",
    "        \n",
    "    else: # 2개 이상일 경우\n",
    "        for i in range(1, len(clothes) + 1):\n",
    "            comb = list(combinations(tmp, i))\n",
    "            count += len(comb)\n",
    "\n",
    "        print(count - 1)"
   ]
  },
  {
   "cell_type": "markdown",
   "id": "afe45cba",
   "metadata": {},
   "source": [
    "## 정답\n",
    "\n",
    "- 딕셔너리의 키 값은 1대1 대응이 아닌 1대다 대응이었다."
   ]
  },
  {
   "cell_type": "code",
   "execution_count": 186,
   "id": "0de108bd",
   "metadata": {},
   "outputs": [
    {
     "name": "stdout",
     "output_type": "stream",
     "text": [
      "2\n",
      "3\n",
      "hat headgear\n",
      "sunglasses eyewear\n",
      "turban headgear\n",
      "5\n",
      "3\n",
      "mask face\n",
      "sunglasses face\n",
      "makeup face\n",
      "3\n"
     ]
    }
   ],
   "source": [
    "t = int(input())\n",
    "\n",
    "for i in range(t):\n",
    "    n = int(input())\n",
    "    clothes = {}\n",
    "    \n",
    "    for j in range(n):\n",
    "        wear = list(input().split())\n",
    "        \n",
    "        if wear[1] in clothes:\n",
    "            clothes[wear[1]].append(wear[0])\n",
    "            \n",
    "        else:\n",
    "            clothes[wear[1]] = [wear[0]]\n",
    "\n",
    "    count = 1 # 각 종류마다 항목의 개수\n",
    "\n",
    "    for c in clothes:\n",
    "        count *= (len(clothes[c]) + 1)\n",
    "    print(count - 1)"
   ]
  },
  {
   "cell_type": "code",
   "execution_count": 187,
   "id": "0624c23f",
   "metadata": {},
   "outputs": [
    {
     "name": "stdout",
     "output_type": "stream",
     "text": [
      "2\n",
      "3\n",
      "hat headgear\n",
      "sunglasses eyewear\n",
      "turban headgear\n",
      "5\n",
      "3\n",
      "mask face\n",
      "sunglasses face\n",
      "makeup face\n",
      "3\n"
     ]
    }
   ],
   "source": [
    "from collections import Counter\n",
    "t = int(input())\n",
    "\n",
    "for i in range(t):\n",
    "    n = int(input())\n",
    "    clothes = []\n",
    "    for j in range(n):\n",
    "        a, b = input().split()\n",
    "        clothes.append(b)\n",
    "\n",
    "    wear_Counter = Counter(clothes)\n",
    "    count = 1 # 각 종류마다 항목의 개수\n",
    "\n",
    "    for key in wear_Counter:\n",
    "        count *= wear_Counter[key] + 1\n",
    "\n",
    "    print(count - 1)"
   ]
  },
  {
   "cell_type": "code",
   "execution_count": null,
   "id": "d187df60",
   "metadata": {},
   "outputs": [],
   "source": []
  }
 ],
 "metadata": {
  "kernelspec": {
   "display_name": "Python 3 (ipykernel)",
   "language": "python",
   "name": "python3"
  },
  "language_info": {
   "codemirror_mode": {
    "name": "ipython",
    "version": 3
   },
   "file_extension": ".py",
   "mimetype": "text/x-python",
   "name": "python",
   "nbconvert_exporter": "python",
   "pygments_lexer": "ipython3",
   "version": "3.9.13"
  }
 },
 "nbformat": 4,
 "nbformat_minor": 5
}
