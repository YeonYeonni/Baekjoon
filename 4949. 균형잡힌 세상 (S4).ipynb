{
 "cells": [
  {
   "cell_type": "code",
   "execution_count": null,
   "id": "d2b5c83e",
   "metadata": {},
   "outputs": [],
   "source": [
    "while True:\n",
    "    n = input()\n",
    "    if n == '.':\n",
    "        break\n",
    "    stack = []\n",
    "    \n",
    "    for i in n:\n",
    "        if i == '(' or i == '[':\n",
    "            stack.append(i)\n",
    "            \n",
    "        elif i == ')':\n",
    "            if len(stack) != 0 and stack[-1] == '(':\n",
    "                stack.pop()\n",
    "            else:\n",
    "                stack.append(')')\n",
    "                break\n",
    "                \n",
    "        elif i == ']':\n",
    "            if len(stack) != 0 and stack[-1] == '[':\n",
    "                stack.pop()\n",
    "            else:\n",
    "                stack.append(']')\n",
    "                break\n",
    "                \n",
    "    if len(stack) == 0:\n",
    "        print('yes')\n",
    "    else:\n",
    "        print('no')"
   ]
  }
 ],
 "metadata": {
  "kernelspec": {
   "display_name": "Python 3 (ipykernel)",
   "language": "python",
   "name": "python3"
  },
  "language_info": {
   "codemirror_mode": {
    "name": "ipython",
    "version": 3
   },
   "file_extension": ".py",
   "mimetype": "text/x-python",
   "name": "python",
   "nbconvert_exporter": "python",
   "pygments_lexer": "ipython3",
   "version": "3.8.6"
  }
 },
 "nbformat": 4,
 "nbformat_minor": 5
}
