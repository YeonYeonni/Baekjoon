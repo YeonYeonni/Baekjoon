{
 "cells": [
  {
   "cell_type": "code",
   "execution_count": null,
   "id": "6ed04fb4",
   "metadata": {},
   "outputs": [],
   "source": [
    "import sys\n",
    "input = sys.stdin.readline"
   ]
  },
  {
   "cell_type": "code",
   "execution_count": 24,
   "id": "e42235b2",
   "metadata": {},
   "outputs": [
    {
     "name": "stdout",
     "output_type": "stream",
     "text": [
      "26 5\n",
      "Bulbasaur\n",
      "Ivysaur\n",
      "Venusaur\n",
      "Charmander\n",
      "Charmeleon\n",
      "Charizard\n",
      "Squirtle\n",
      "Wartortle\n",
      "Blastoise\n",
      "Caterpie\n",
      "Metapod\n",
      "Butterfree\n",
      "Weedle\n",
      "Kakuna\n",
      "Beedrill\n",
      "Pidgey\n",
      "Pidgeotto\n",
      "Pidgeot\n",
      "Rattata\n",
      "Raticate\n",
      "Spearow\n",
      "Fearow\n",
      "Ekans\n",
      "Arbok\n",
      "Pikachu\n",
      "Raichu\n"
     ]
    }
   ],
   "source": [
    "n, m = map(int, input().split())\n",
    "dic = {}\n",
    "\n",
    "for i in range(1, n + 1):\n",
    "    pokemon = input().rstrip()\n",
    "    dic[i] = pokemon\n",
    "    dic[pokemon] = i"
   ]
  },
  {
   "cell_type": "code",
   "execution_count": 40,
   "id": "d2697859",
   "metadata": {},
   "outputs": [
    {
     "name": "stdout",
     "output_type": "stream",
     "text": [
      "25\n",
      "Pikachu\n",
      "Raichu\n",
      "26\n",
      "3\n",
      "Venusaur\n",
      "Pidgey\n",
      "16\n",
      "Kakuna\n",
      "14\n"
     ]
    }
   ],
   "source": [
    "for _ in range(m):\n",
    "    tmp = input().rstrip()\n",
    "    if tmp.isalpha():\n",
    "        print(dic[tmp])\n",
    "    else:\n",
    "        print(dic[int(tmp)])"
   ]
  },
  {
   "cell_type": "code",
   "execution_count": null,
   "id": "534fb05b",
   "metadata": {},
   "outputs": [],
   "source": []
  }
 ],
 "metadata": {
  "kernelspec": {
   "display_name": "Python 3 (ipykernel)",
   "language": "python",
   "name": "python3"
  },
  "language_info": {
   "codemirror_mode": {
    "name": "ipython",
    "version": 3
   },
   "file_extension": ".py",
   "mimetype": "text/x-python",
   "name": "python",
   "nbconvert_exporter": "python",
   "pygments_lexer": "ipython3",
   "version": "3.9.13"
  }
 },
 "nbformat": 4,
 "nbformat_minor": 5
}
