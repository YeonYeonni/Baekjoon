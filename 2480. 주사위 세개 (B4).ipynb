{
 "cells": [
  {
   "cell_type": "code",
   "execution_count": 107,
   "id": "693c69a3",
   "metadata": {},
   "outputs": [
    {
     "name": "stdout",
     "output_type": "stream",
     "text": [
      "6 2 5\n",
      "600\n"
     ]
    }
   ],
   "source": [
    "dices = list(map(int, input().split()))\n",
    "\n",
    "dices.sort()\n",
    "\n",
    "count_first = 0\n",
    "count_last = 0\n",
    "max_count = 0\n",
    "\n",
    "for dice in dices:\n",
    "    if dices[0] == dice:\n",
    "        count_first += 1\n",
    "        \n",
    "    if dices[2] == dice:\n",
    "        count_last += 1\n",
    "        \n",
    "max_count = max(count_first, count_last)\n",
    "\n",
    "if max_count == 3:\n",
    "    print(10000 + dices[0] * 1000)\n",
    "    \n",
    "if max_count == 2:\n",
    "    print(1000 + dices[1] * 100)\n",
    "    \n",
    "if max_count == 1:\n",
    "    print(max(dices) * 100)"
   ]
  },
  {
   "cell_type": "code",
   "execution_count": 108,
   "id": "7c385d18",
   "metadata": {},
   "outputs": [
    {
     "name": "stdout",
     "output_type": "stream",
     "text": [
      "6 2 5\n",
      "600\n"
     ]
    }
   ],
   "source": [
    "a, b, c = map(int, input().split())\n",
    "\n",
    "if a == b == c:\n",
    "    print(10000 + a * 1000)\n",
    "    \n",
    "elif a == b:\n",
    "    print(1000 + a * 100)\n",
    "    \n",
    "elif a == c:\n",
    "    print(1000 + a * 100)\n",
    "    \n",
    "elif b == c:\n",
    "    print(1000 + b * 100)\n",
    "    \n",
    "else:\n",
    "    print(100 * max(a, b, c))"
   ]
  },
  {
   "cell_type": "code",
   "execution_count": 109,
   "id": "4442608b",
   "metadata": {},
   "outputs": [
    {
     "name": "stdout",
     "output_type": "stream",
     "text": [
      "6 6 5\n",
      "1600\n"
     ]
    }
   ],
   "source": [
    "a, b, c = map(int,input().split())\n",
    "\n",
    "if a == b == c:    \n",
    "    print(10000 + a * 1000)\n",
    "\n",
    "elif a == b or b == c:\n",
    "    print(1000 + b * 100)\n",
    "\n",
    "elif a == c:\n",
    "    print(1000 + a * 100)\n",
    "\n",
    "else:\n",
    "    print(max(a, b, c) * 100)"
   ]
  },
  {
   "cell_type": "code",
   "execution_count": null,
   "id": "b8d7bfcd",
   "metadata": {},
   "outputs": [],
   "source": []
  }
 ],
 "metadata": {
  "kernelspec": {
   "display_name": "Python 3 (ipykernel)",
   "language": "python",
   "name": "python3"
  },
  "language_info": {
   "codemirror_mode": {
    "name": "ipython",
    "version": 3
   },
   "file_extension": ".py",
   "mimetype": "text/x-python",
   "name": "python",
   "nbconvert_exporter": "python",
   "pygments_lexer": "ipython3",
   "version": "3.8.6"
  }
 },
 "nbformat": 4,
 "nbformat_minor": 5
}
