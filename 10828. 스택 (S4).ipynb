{
 "cells": [
  {
   "cell_type": "code",
   "execution_count": 57,
   "id": "6075ed58",
   "metadata": {},
   "outputs": [
    {
     "name": "stdout",
     "output_type": "stream",
     "text": [
      "push 1\n",
      "push 2\n",
      "top\n",
      "2\n",
      "size\n",
      "2\n",
      "empty\n",
      "0\n",
      "pop\n",
      "2\n",
      "pop\n",
      "1\n",
      "pop\n",
      "-1\n",
      "size\n",
      "0\n",
      "empty\n",
      "1\n",
      "pop\n",
      "-1\n",
      "push 3\n",
      "empty\n",
      "0\n",
      "top\n",
      "3\n"
     ]
    }
   ],
   "source": [
    "import sys\n",
    "input = sys.stdin.readline\n",
    "\n",
    "n = int(input()) #명령의 수\n",
    "stack=[]\n",
    "\n",
    "for i in range(n):\n",
    "    order = input().split()\n",
    "    \n",
    "    if order[0] == 'push':\n",
    "        stack.append(order[1])\n",
    "        \n",
    "    if order[0] == 'pop':\n",
    "        if len(stack) == 0:\n",
    "            print(-1)\n",
    "        \n",
    "        else:\n",
    "            print(stack.pop())\n",
    "        \n",
    "    if order[0] == 'size':\n",
    "        print(len(stack))\n",
    "    \n",
    "    if order[0] == 'empty':\n",
    "        if len(stack) == 0:\n",
    "            print(1)\n",
    "        else:\n",
    "            print(0)\n",
    "        \n",
    "    if order[0] == 'top':\n",
    "        if len(stack) == 0:\n",
    "            print(-1)\n",
    "        \n",
    "        else:\n",
    "            print(stack[-1])"
   ]
  },
  {
   "cell_type": "code",
   "execution_count": null,
   "id": "23bc1292",
   "metadata": {},
   "outputs": [],
   "source": []
  }
 ],
 "metadata": {
  "kernelspec": {
   "display_name": "Python 3 (ipykernel)",
   "language": "python",
   "name": "python3"
  },
  "language_info": {
   "codemirror_mode": {
    "name": "ipython",
    "version": 3
   },
   "file_extension": ".py",
   "mimetype": "text/x-python",
   "name": "python",
   "nbconvert_exporter": "python",
   "pygments_lexer": "ipython3",
   "version": "3.8.6"
  }
 },
 "nbformat": 4,
 "nbformat_minor": 5
}
