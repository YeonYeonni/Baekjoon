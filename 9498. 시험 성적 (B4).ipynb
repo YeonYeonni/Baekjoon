{
 "cells": [
  {
   "cell_type": "code",
   "execution_count": null,
   "id": "5a333017",
   "metadata": {},
   "outputs": [],
   "source": [
    "score = int(input())\n",
    "\n",
    "def grade(score):\n",
    "    \n",
    "    if 90 <= score <= 100:\n",
    "        return 'A'\n",
    "    \n",
    "    if 80 <= score <= 89:\n",
    "        return 'B'\n",
    "    \n",
    "    if 70 <= score <= 79:\n",
    "        return 'C'\n",
    "    \n",
    "    if 60 <= score <= 69:\n",
    "        return 'D'\n",
    "    \n",
    "    else:\n",
    "        return 'F'\n",
    "    \n",
    "print(grade(score))"
   ]
  }
 ],
 "metadata": {
  "kernelspec": {
   "display_name": "Python 3 (ipykernel)",
   "language": "python",
   "name": "python3"
  },
  "language_info": {
   "codemirror_mode": {
    "name": "ipython",
    "version": 3
   },
   "file_extension": ".py",
   "mimetype": "text/x-python",
   "name": "python",
   "nbconvert_exporter": "python",
   "pygments_lexer": "ipython3",
   "version": "3.8.6"
  }
 },
 "nbformat": 4,
 "nbformat_minor": 5
}
