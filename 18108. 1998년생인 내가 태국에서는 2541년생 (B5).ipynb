{
 "cells": [
  {
   "cell_type": "code",
   "execution_count": null,
   "id": "87ea4110",
   "metadata": {},
   "outputs": [],
   "source": [
    "input_year = int(input())\n",
    "\n",
    "print(input_year - 543)"
   ]
  }
 ],
 "metadata": {
  "kernelspec": {
   "display_name": "Python 3 (ipykernel)",
   "language": "python",
   "name": "python3"
  },
  "language_info": {
   "codemirror_mode": {
    "name": "ipython",
    "version": 3
   },
   "file_extension": ".py",
   "mimetype": "text/x-python",
   "name": "python",
   "nbconvert_exporter": "python",
   "pygments_lexer": "ipython3",
   "version": "3.8.6"
  }
 },
 "nbformat": 4,
 "nbformat_minor": 5
}
