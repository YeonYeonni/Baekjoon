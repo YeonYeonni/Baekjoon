{
 "cells": [
  {
   "cell_type": "code",
   "execution_count": 4,
   "id": "650644b1",
   "metadata": {},
   "outputs": [
    {
     "name": "stdout",
     "output_type": "stream",
     "text": [
      "8\n",
      "4\n",
      "3\n",
      "6\n",
      "8\n",
      "7\n",
      "5\n",
      "2\n",
      "1\n",
      "+\n",
      "+\n",
      "+\n",
      "+\n",
      "-\n",
      "-\n",
      "+\n",
      "+\n",
      "-\n",
      "+\n",
      "+\n",
      "-\n",
      "-\n",
      "-\n",
      "-\n",
      "-\n"
     ]
    }
   ],
   "source": [
    "import sys\n",
    "input = sys.stdin.readline\n",
    "\n",
    "n = int(input())\n",
    "count = 0\n",
    "stack = [] # stack\n",
    "result = [] # +, -\n",
    "temp = True\n",
    "\n",
    "for _ in range(n):\n",
    "    num = int(input())\n",
    "    \n",
    "    # 입력값 (num) 만큼 +를 추가\n",
    "    while count < num:\n",
    "        count += 1\n",
    "        stack.append(count)\n",
    "        result.append('+')\n",
    "        \n",
    "    # num을 스택에서 제거한 후 -를 추가\n",
    "    if stack[-1] == num:\n",
    "        stack.pop()\n",
    "        result.append('-')\n",
    "        \n",
    "    else:\n",
    "        temp = False\n",
    "        break\n",
    "        \n",
    "if temp == False: # 스택이 성립되지 않는다면,\n",
    "    print('NO')\n",
    "\n",
    "else:\n",
    "    for i in result: # 스택이 성립된다면,\n",
    "        print(i)"
   ]
  },
  {
   "cell_type": "code",
   "execution_count": null,
   "id": "8a5a3b05",
   "metadata": {},
   "outputs": [],
   "source": []
  }
 ],
 "metadata": {
  "kernelspec": {
   "display_name": "Python 3 (ipykernel)",
   "language": "python",
   "name": "python3"
  },
  "language_info": {
   "codemirror_mode": {
    "name": "ipython",
    "version": 3
   },
   "file_extension": ".py",
   "mimetype": "text/x-python",
   "name": "python",
   "nbconvert_exporter": "python",
   "pygments_lexer": "ipython3",
   "version": "3.8.6"
  }
 },
 "nbformat": 4,
 "nbformat_minor": 5
}
