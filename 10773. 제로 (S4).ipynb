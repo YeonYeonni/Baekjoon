{
 "cells": [
  {
   "cell_type": "code",
   "execution_count": 4,
   "id": "4632dad5",
   "metadata": {},
   "outputs": [
    {
     "name": "stdout",
     "output_type": "stream",
     "text": [
      "4\n",
      "3\n",
      "0\n",
      "4\n",
      "0\n",
      "0\n"
     ]
    }
   ],
   "source": [
    "k = int(input())\n",
    "stack = []\n",
    "\n",
    "for i in range(k):\n",
    "    \n",
    "    n = int(input())\n",
    "    \n",
    "    if n == 0:\n",
    "        stack.pop()\n",
    "    else:\n",
    "        stack.append(n)\n",
    "        \n",
    "print(sum(stack))"
   ]
  },
  {
   "cell_type": "code",
   "execution_count": null,
   "id": "5871e767",
   "metadata": {},
   "outputs": [],
   "source": [
    "import sys\n",
    "\n",
    "input = sys.stdin.readline\n",
    "\n",
    "k = int(input())\n",
    "stack = []\n",
    "\n",
    "for i in range(k):\n",
    "    \n",
    "    n = int(input())\n",
    "    \n",
    "    if n == 0:\n",
    "        stack.pop()\n",
    "    else:\n",
    "        stack.append(n)\n",
    "        \n",
    "print(sum(stack))"
   ]
  }
 ],
 "metadata": {
  "kernelspec": {
   "display_name": "Python 3 (ipykernel)",
   "language": "python",
   "name": "python3"
  },
  "language_info": {
   "codemirror_mode": {
    "name": "ipython",
    "version": 3
   },
   "file_extension": ".py",
   "mimetype": "text/x-python",
   "name": "python",
   "nbconvert_exporter": "python",
   "pygments_lexer": "ipython3",
   "version": "3.8.6"
  }
 },
 "nbformat": 4,
 "nbformat_minor": 5
}
