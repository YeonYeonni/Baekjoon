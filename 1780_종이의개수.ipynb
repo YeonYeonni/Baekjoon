{
 "cells": [
  {
   "cell_type": "markdown",
   "id": "5a63b119",
   "metadata": {},
   "source": [
    "- NxN크기 행렬\n",
    "- 종이의 각 칸에는 -1, 0, 1\n",
    "- 규칙에 따라 적절한 크기로 자름\n",
    "    - 1. 종이가 모두 같은 수 => 종이를 그대로 사용\n",
    "    - 2. 종이가 모두 같은 수가 아님 => 종이 9개로 자르고, 위를 반복\n",
    "- -1, 0, 1로만 채워진 종이의 개수"
   ]
  },
  {
   "cell_type": "code",
   "execution_count": null,
   "id": "62593bfb",
   "metadata": {},
   "outputs": [],
   "source": [
    "import sys\n",
    "input = sys.stdin.readline"
   ]
  },
  {
   "cell_type": "code",
   "execution_count": 2,
   "id": "f72940dc",
   "metadata": {},
   "outputs": [
    {
     "name": "stdout",
     "output_type": "stream",
     "text": [
      "9\n",
      "0 0 0 1 1 1 -1 -1 -1\n",
      "0 0 0 1 1 1 -1 -1 -1\n",
      "0 0 0 1 1 1 -1 -1 -1\n",
      "1 1 1 0 0 0 0 0 0\n",
      "1 1 1 0 0 0 0 0 0\n",
      "1 1 1 0 0 0 0 0 0\n",
      "0 1 -1 0 1 -1 0 1 -1\n",
      "0 -1 1 0 1 -1 0 1 -1\n",
      "0 1 -1 1 0 -1 0 1 -1\n"
     ]
    }
   ],
   "source": [
    "# n행 n열\n",
    "n = int(input())\n",
    "graph = [list(map(int, input().split())) for _ in range(n)]"
   ]
  },
  {
   "cell_type": "markdown",
   "id": "c5cad0c5",
   "metadata": {},
   "source": [
    "- 재귀인가?"
   ]
  },
  {
   "cell_type": "code",
   "execution_count": 3,
   "id": "7b2e72f3",
   "metadata": {},
   "outputs": [],
   "source": [
    "result = []\n",
    "\n",
    "def cut_paper(x, y, n):\n",
    "    \n",
    "    # 검사할 색종이의 첫 원소\n",
    "    color = graph[x][y]\n",
    "    \n",
    "    for i in range(x, x+n):\n",
    "        for j in range(y, y+n):\n",
    "            \n",
    "            # 모두 같은 수가 아니면\n",
    "            if color != graph[i][j]:\n",
    "                \n",
    "                # 같은 크기의 종이 9개로 자름\n",
    "                cut_paper(x, y, n//3)                \n",
    "                cut_paper(x, y+n//3, n//3)\n",
    "                cut_paper(x, y+(n//3*2), n//3)\n",
    "                \n",
    "                cut_paper(x+n//3, y, n//3)\n",
    "                cut_paper(x+n//3, y+n//3, n//3)\n",
    "                cut_paper(x+n//3, y+(n//3*2), n//3)\n",
    "                \n",
    "                cut_paper(x+(n//3*2), y, n//3)\n",
    "                cut_paper(x+(n//3*2), y+n//3, n//3)\n",
    "                cut_paper(x+(n//3*2), y+(n//3*2), n//3)\n",
    "                \n",
    "                return\n",
    "            \n",
    "    # -1로만 채워진 종이\n",
    "    if color == -1:\n",
    "        result.append(-1)\n",
    "        \n",
    "    # 0으로만 채워진 종이\n",
    "    if color == 0:\n",
    "        result.append(0)\n",
    "        \n",
    "    # 1로만 채워진 종이\n",
    "    if color == 1:\n",
    "        result.append(1)"
   ]
  },
  {
   "cell_type": "code",
   "execution_count": 4,
   "id": "65142fdb",
   "metadata": {
    "scrolled": true
   },
   "outputs": [
    {
     "name": "stdout",
     "output_type": "stream",
     "text": [
      "10\n",
      "12\n",
      "11\n"
     ]
    }
   ],
   "source": [
    "cut_paper(0, 0, n)\n",
    "\n",
    "print(result.count(-1))\n",
    "print(result.count(0))\n",
    "print(result.count(1))"
   ]
  },
  {
   "cell_type": "code",
   "execution_count": null,
   "id": "74a78bd4",
   "metadata": {},
   "outputs": [],
   "source": []
  }
 ],
 "metadata": {
  "kernelspec": {
   "display_name": "Python 3 (ipykernel)",
   "language": "python",
   "name": "python3"
  },
  "language_info": {
   "codemirror_mode": {
    "name": "ipython",
    "version": 3
   },
   "file_extension": ".py",
   "mimetype": "text/x-python",
   "name": "python",
   "nbconvert_exporter": "python",
   "pygments_lexer": "ipython3",
   "version": "3.9.13"
  }
 },
 "nbformat": 4,
 "nbformat_minor": 5
}
