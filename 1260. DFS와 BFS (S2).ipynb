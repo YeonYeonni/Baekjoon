{
 "cells": [
  {
   "cell_type": "code",
   "execution_count": 43,
   "id": "c11d4efb",
   "metadata": {},
   "outputs": [
    {
     "name": "stdout",
     "output_type": "stream",
     "text": [
      "4 5 1\n",
      "1 2\n",
      "1 3\n",
      "1 4\n",
      "2 4\n",
      "3 4\n"
     ]
    }
   ],
   "source": [
    "from collections import deque\n",
    "\n",
    "# dfs\n",
    "def dfs(nodes, v, visited_dfs):\n",
    "    visited_dfs[v] = True\n",
    "    print(v, end = ' ')\n",
    "    \n",
    "    for i in nodes[v]:\n",
    "        if not visited_dfs[i]:\n",
    "            dfs(nodes, i, visited_dfs)\n",
    "\n",
    "# bfs\n",
    "def bfs(nodes, start, visited_bfs):\n",
    "    queue = deque([start])\n",
    "    visited_bfs[start] = True\n",
    "    \n",
    "    while queue:\n",
    "        v = queue.popleft()\n",
    "        print(v, end = ' ')\n",
    "        \n",
    "        for i in nodes[v]:\n",
    "            if not visited_bfs[i]:\n",
    "                queue.append(i)\n",
    "                visited_bfs[i] = True\n",
    "\n",
    "n, m, r = map(int, input().split())\n",
    "nodes_cnt = [0 for _ in range(n + 1)]\n",
    "nodes = [[] for _ in range(n + 1)]\n",
    "\n",
    "visited_dfs = [False for _ in range(n + 1)]\n",
    "visited_bfs = [False for _ in range(n + 1)]\n",
    "\n",
    "for i in range(m):\n",
    "    tail, head = map(int, input().split())\n",
    "    nodes[tail].append(head)\n",
    "    nodes[head].append(tail)\n",
    "    \n",
    "for i in range(n + 1):\n",
    "    nodes[i].sort()"
   ]
  },
  {
   "cell_type": "code",
   "execution_count": 44,
   "id": "0fbbadf4",
   "metadata": {},
   "outputs": [
    {
     "name": "stdout",
     "output_type": "stream",
     "text": [
      "1 2 4 3 \n",
      "1 2 3 4 "
     ]
    }
   ],
   "source": [
    "dfs(nodes, r, visited_dfs)\n",
    "print(sep ='\\n')\n",
    "bfs(nodes, r, visited_bfs)"
   ]
  },
  {
   "cell_type": "code",
   "execution_count": null,
   "id": "b8ece16e",
   "metadata": {},
   "outputs": [],
   "source": []
  }
 ],
 "metadata": {
  "kernelspec": {
   "display_name": "Python 3 (ipykernel)",
   "language": "python",
   "name": "python3"
  },
  "language_info": {
   "codemirror_mode": {
    "name": "ipython",
    "version": 3
   },
   "file_extension": ".py",
   "mimetype": "text/x-python",
   "name": "python",
   "nbconvert_exporter": "python",
   "pygments_lexer": "ipython3",
   "version": "3.8.6"
  }
 },
 "nbformat": 4,
 "nbformat_minor": 5
}
