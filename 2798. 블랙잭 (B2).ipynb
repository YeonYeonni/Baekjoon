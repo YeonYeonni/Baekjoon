{
 "cells": [
  {
   "cell_type": "code",
   "execution_count": 28,
   "id": "7d937a37",
   "metadata": {},
   "outputs": [
    {
     "name": "stdout",
     "output_type": "stream",
     "text": [
      "10 500\n",
      "93 181 245 215 315 36 185 138 216 295\n",
      "497\n"
     ]
    }
   ],
   "source": [
    "from itertools import combinations\n",
    "import sys\n",
    "input = sys.stdin.readline\n",
    "\n",
    "n, m = map(int, input().split())\n",
    "data = list(map(int, input().split()))\n",
    "comb = list(combinations(data, 3))\n",
    "\n",
    "minus = m\n",
    "idx = []\n",
    "\n",
    "for i in range(len(comb)):\n",
    "    idx.append(sum(comb[i]))\n",
    "    idx = set(idx)\n",
    "    idx = list(idx)\n",
    "idx.sort()\n",
    "\n",
    "if m in idx:\n",
    "    print(m)\n",
    "    \n",
    "else:\n",
    "    while minus not in idx:\n",
    "        minus -= 1\n",
    "        \n",
    "    print(minus)"
   ]
  },
  {
   "cell_type": "code",
   "execution_count": 29,
   "id": "33ad8844",
   "metadata": {},
   "outputs": [
    {
     "name": "stdout",
     "output_type": "stream",
     "text": [
      "10 500\n",
      "93 181 245 215 315 36 185 138 216 295\n",
      "497\n"
     ]
    }
   ],
   "source": [
    "n, m = map(int, input().split())\n",
    "data = list(map(int, input().split()))\n",
    "result = 0\n",
    "\n",
    "for i in range(n):\n",
    "    for j in range(i + 1, n):\n",
    "        for k in range(j + 1, n):\n",
    "            if data[i] + data[j] + data[k] > m:\n",
    "                continue\n",
    "            else:\n",
    "                result = max(result, data[i] + data[j] + data[k])\n",
    "                \n",
    "print(result)"
   ]
  },
  {
   "cell_type": "code",
   "execution_count": 30,
   "id": "35119479",
   "metadata": {},
   "outputs": [
    {
     "name": "stdout",
     "output_type": "stream",
     "text": [
      "10 500\n",
      "93 181 245 215 315 36 185 138 216 295\n",
      "497\n"
     ]
    }
   ],
   "source": [
    "from itertools import combinations\n",
    "n, m = map(int, input().split())\n",
    "data = list(map(int, input().split()))\n",
    "result = 0\n",
    "\n",
    "for cards in combinations(data, 3):\n",
    "    temp_sum = sum(cards)\n",
    "    \n",
    "    if result < temp_sum <= m:\n",
    "        result = temp_sum\n",
    "        \n",
    "print(result)"
   ]
  },
  {
   "cell_type": "code",
   "execution_count": null,
   "id": "15388dec",
   "metadata": {},
   "outputs": [],
   "source": []
  }
 ],
 "metadata": {
  "kernelspec": {
   "display_name": "Python 3 (ipykernel)",
   "language": "python",
   "name": "python3"
  },
  "language_info": {
   "codemirror_mode": {
    "name": "ipython",
    "version": 3
   },
   "file_extension": ".py",
   "mimetype": "text/x-python",
   "name": "python",
   "nbconvert_exporter": "python",
   "pygments_lexer": "ipython3",
   "version": "3.8.6"
  }
 },
 "nbformat": 4,
 "nbformat_minor": 5
}
