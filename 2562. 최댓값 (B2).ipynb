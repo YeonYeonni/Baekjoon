{
 "cells": [
  {
   "cell_type": "code",
   "execution_count": 28,
   "id": "f4939a62",
   "metadata": {},
   "outputs": [
    {
     "name": "stdout",
     "output_type": "stream",
     "text": [
      "3\n",
      "29\n",
      "38\n",
      "12\n",
      "57\n",
      "74\n",
      "40\n",
      "85\n",
      "61\n",
      "85\n",
      "8\n"
     ]
    }
   ],
   "source": [
    "data = []\n",
    "for i in range(9):\n",
    "    data.append(int(input()))\n",
    "\n",
    "result = 0\n",
    "\n",
    "for idx, num in enumerate(data):\n",
    "    result = max(result, num)\n",
    "    \n",
    "print(result)\n",
    "print(data.index(result) + 1)"
   ]
  },
  {
   "cell_type": "code",
   "execution_count": 29,
   "id": "42144dfd",
   "metadata": {},
   "outputs": [
    {
     "name": "stdout",
     "output_type": "stream",
     "text": [
      "3\n",
      "29\n",
      "38\n",
      "12\n",
      "57\n",
      "74\n",
      "40\n",
      "85\n",
      "61\n",
      "85\n",
      "8\n"
     ]
    }
   ],
   "source": [
    "data = []\n",
    "for i in range(9):\n",
    "    data.append(int(input()))\n",
    "    \n",
    "print(max(data))\n",
    "print(data.index(max(data)) + 1)"
   ]
  },
  {
   "cell_type": "code",
   "execution_count": null,
   "id": "427abda3",
   "metadata": {},
   "outputs": [],
   "source": []
  }
 ],
 "metadata": {
  "kernelspec": {
   "display_name": "Python 3 (ipykernel)",
   "language": "python",
   "name": "python3"
  },
  "language_info": {
   "codemirror_mode": {
    "name": "ipython",
    "version": 3
   },
   "file_extension": ".py",
   "mimetype": "text/x-python",
   "name": "python",
   "nbconvert_exporter": "python",
   "pygments_lexer": "ipython3",
   "version": "3.8.6"
  }
 },
 "nbformat": 4,
 "nbformat_minor": 5
}
