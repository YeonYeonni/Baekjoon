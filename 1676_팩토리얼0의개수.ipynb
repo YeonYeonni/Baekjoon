{
 "cells": [
  {
   "cell_type": "markdown",
   "id": "0ff83274",
   "metadata": {},
   "source": [
    "### 팩토리얼을 구해 뒤집어서 0을 세기"
   ]
  },
  {
   "cell_type": "code",
   "execution_count": 29,
   "id": "e0583244",
   "metadata": {},
   "outputs": [
    {
     "name": "stdout",
     "output_type": "stream",
     "text": [
      "4\n"
     ]
    }
   ],
   "source": [
    "n = int(input())\n",
    "\n",
    "# N! 에서 뒤에서부터 처음 0이 아닌 숫자가 나올 떄까지 0의 개수를 구하기\n",
    "\n",
    "# 팩토리얼 구하기\n",
    "factorial = 1\n",
    "while n != 0:\n",
    "    factorial *= n\n",
    "    n -= 1\n",
    "    \n",
    "# 처음 0이 아닌 숫자가 나올 떄까지 0의 개수를 구하기\n",
    "result = 0\n",
    "\n",
    "for i in str(factorial)[::-1]:\n",
    "    if i != '0':\n",
    "        break\n",
    "    result += 1\n",
    "    \n",
    "print(result)"
   ]
  },
  {
   "cell_type": "code",
   "execution_count": 31,
   "id": "a95f7471",
   "metadata": {},
   "outputs": [
    {
     "name": "stdout",
     "output_type": "stream",
     "text": [
      "10\n",
      "2\n"
     ]
    }
   ],
   "source": [
    "# math 함수 이용\n",
    "from math import factorial\n",
    "\n",
    "n = int(input())\n",
    "result = 0\n",
    "\n",
    "for x in str(factorial(n))[::-1]:\n",
    "    \n",
    "    if x != '0':\n",
    "        break\n",
    "        \n",
    "    result += 1\n",
    "    \n",
    "print(result)"
   ]
  },
  {
   "cell_type": "markdown",
   "id": "aeee0ab9",
   "metadata": {},
   "source": [
    "### n을 5로 나누면서 0의 개수를 세기"
   ]
  },
  {
   "cell_type": "markdown",
   "id": "1b896be7",
   "metadata": {},
   "source": [
    "5의 배수의 개수\n",
    "\n",
    "- 2X5 = 10 -> 0이 하나\n",
    "\n",
    "- 20 -> 5, 10, 15, 20 : 5의 배수 4개 -> 0이 4개"
   ]
  },
  {
   "cell_type": "code",
   "execution_count": 30,
   "id": "6c5329c5",
   "metadata": {},
   "outputs": [
    {
     "name": "stdout",
     "output_type": "stream",
     "text": [
      "10\n",
      "2\n"
     ]
    }
   ],
   "source": [
    "n = int(input())\n",
    "\n",
    "result = 0\n",
    "while n != 0:\n",
    "    n = n // 5\n",
    "    result += n\n",
    "\n",
    "print(result)"
   ]
  },
  {
   "cell_type": "code",
   "execution_count": null,
   "id": "07b8e38b",
   "metadata": {},
   "outputs": [],
   "source": []
  }
 ],
 "metadata": {
  "kernelspec": {
   "display_name": "Python 3 (ipykernel)",
   "language": "python",
   "name": "python3"
  },
  "language_info": {
   "codemirror_mode": {
    "name": "ipython",
    "version": 3
   },
   "file_extension": ".py",
   "mimetype": "text/x-python",
   "name": "python",
   "nbconvert_exporter": "python",
   "pygments_lexer": "ipython3",
   "version": "3.9.13"
  }
 },
 "nbformat": 4,
 "nbformat_minor": 5
}
