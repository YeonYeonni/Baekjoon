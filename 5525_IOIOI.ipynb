{
 "cells": [
  {
   "cell_type": "markdown",
   "id": "a2273191",
   "metadata": {},
   "source": [
    "- P1 : IOI\n",
    "- P2 : IOIOI\n",
    "- P3 : IOIOIOI\n",
    "- PN : IOIOI...OI (o가 n개)\n",
    "\n",
    "\n",
    "- S안에 PN이 몇 군데 포함되어 있는지"
   ]
  },
  {
   "cell_type": "markdown",
   "id": "f24ca942",
   "metadata": {},
   "source": [
    "## 50점\n",
    "\n",
    "- N <= 100, M <= 10000."
   ]
  },
  {
   "cell_type": "code",
   "execution_count": 36,
   "id": "0d0be506",
   "metadata": {},
   "outputs": [],
   "source": [
    "def pn(n):\n",
    "    s = 'I'\n",
    "    for i in range(n):\n",
    "        s += 'OI'\n",
    "    return s"
   ]
  },
  {
   "cell_type": "code",
   "execution_count": 37,
   "id": "7b2e88a0",
   "metadata": {},
   "outputs": [
    {
     "name": "stdout",
     "output_type": "stream",
     "text": [
      "1\n",
      "13\n",
      "OOIOIOIOIIOII\n"
     ]
    }
   ],
   "source": [
    "n = int(input())\n",
    "m = int(input())\n",
    "s = input()"
   ]
  },
  {
   "cell_type": "code",
   "execution_count": 38,
   "id": "558f8c2e",
   "metadata": {},
   "outputs": [
    {
     "name": "stdout",
     "output_type": "stream",
     "text": [
      "4\n"
     ]
    }
   ],
   "source": [
    "result = 0\n",
    "\n",
    "for i in range(len(s)):    \n",
    "    tmp = s[i:i+len(pn(n))]\n",
    "    \n",
    "    if pn(n) == tmp:\n",
    "        result += 1\n",
    "        \n",
    "print(result)"
   ]
  },
  {
   "cell_type": "markdown",
   "id": "016927ac",
   "metadata": {},
   "source": [
    "## 정답"
   ]
  },
  {
   "cell_type": "code",
   "execution_count": 14,
   "id": "f4c20d48",
   "metadata": {},
   "outputs": [
    {
     "name": "stdout",
     "output_type": "stream",
     "text": [
      "1\n",
      "13\n",
      "OOIOIOIOIIOII\n"
     ]
    }
   ],
   "source": [
    "n = int(input())\n",
    "m = int(input())\n",
    "s = input()"
   ]
  },
  {
   "cell_type": "code",
   "execution_count": 16,
   "id": "2be4d473",
   "metadata": {},
   "outputs": [
    {
     "name": "stdout",
     "output_type": "stream",
     "text": [
      "4\n"
     ]
    }
   ],
   "source": [
    "# 위치를 나타내는 cursor, OI 개수를 나타내는 count\n",
    "count, result = 0, 0\n",
    "i = 1\n",
    "\n",
    "while i < (m - 1):\n",
    "    \n",
    "    # 문자열 IOI가 맞는지 확인\n",
    "    \n",
    "    # 맞다면 count + 1\n",
    "    if s[i-1] == 'I' and s[i] == 'O' and s[i+1] == 'I':\n",
    "        count += 1\n",
    "        \n",
    "        # n과 비교해서 count와 똑같다면 결과값 + 1\n",
    "        if count == n:\n",
    "            result += 1\n",
    "            count -= 1\n",
    "        i += 1\n",
    "            \n",
    "    # 아니라면 count 초기화\n",
    "    else:\n",
    "        count = 0\n",
    "    i += 1\n",
    "        \n",
    "print(result)"
   ]
  },
  {
   "cell_type": "code",
   "execution_count": null,
   "id": "1be5dbf3",
   "metadata": {},
   "outputs": [],
   "source": []
  }
 ],
 "metadata": {
  "kernelspec": {
   "display_name": "Python 3 (ipykernel)",
   "language": "python",
   "name": "python3"
  },
  "language_info": {
   "codemirror_mode": {
    "name": "ipython",
    "version": 3
   },
   "file_extension": ".py",
   "mimetype": "text/x-python",
   "name": "python",
   "nbconvert_exporter": "python",
   "pygments_lexer": "ipython3",
   "version": "3.9.13"
  }
 },
 "nbformat": 4,
 "nbformat_minor": 5
}
